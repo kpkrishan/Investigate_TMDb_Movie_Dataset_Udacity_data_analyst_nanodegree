{
 "cells": [
  {
   "cell_type": "markdown",
   "metadata": {},
   "source": [
    "Krishan Kumar Pandey"
   ]
  },
  {
   "cell_type": "markdown",
   "metadata": {},
   "source": [
    "# Project 2:Investigate a Dataset (TMDb Movie Data)"
   ]
  },
  {
   "cell_type": "markdown",
   "metadata": {},
   "source": [
    "In this project we are going to do general data analysis of data provided to us with the help of python libraries like numpy,pandas and matplotlib."
   ]
  },
  {
   "cell_type": "markdown",
   "metadata": {},
   "source": [
    "# Table of Contents:"
   ]
  },
  {
   "cell_type": "markdown",
   "metadata": {},
   "source": [
    "1.Introduction\n",
    "\n",
    "2.Data Wrangling\n",
    "\n",
    "3.Exploratory Data Analysis\n",
    "\n",
    "4.Conclusions"
   ]
  },
  {
   "cell_type": "markdown",
   "metadata": {},
   "source": [
    "# 1.Introduction"
   ]
  },
  {
   "cell_type": "markdown",
   "metadata": {},
   "source": [
    "### About Dataset:"
   ]
  },
  {
   "cell_type": "markdown",
   "metadata": {},
   "source": [
    " In this project I have chosen TMDb movie data set for data analysis process. It has the details of around 10000 movies.\n",
    " I will analyse this data set on the basis of few questions."
   ]
  },
  {
   "cell_type": "markdown",
   "metadata": {},
   "source": [
    "### Questions:"
   ]
  },
  {
   "cell_type": "markdown",
   "metadata": {},
   "source": [
    "1. Find the movie name which has highest runtime?\n",
    "\n",
    "2. How many movies have runtime less than 2hrs.(120 min) and greater than 2hrs ?\n",
    "\n",
    "3. Year of highest and lowest number of movie release?\n",
    "\n",
    "4. Get 5 directors with highest directed movies?\n",
    "\n",
    "5. What is maximum and minimum vote average?\n",
    "\n",
    "6. Name the movies with maximum and minimum vote average?\n",
    "\n",
    "7. Movies having vote average less than or equal to 5 and greater than 5?\n",
    "\n",
    "8. What is the vote average of most popular movie?\n",
    "\n",
    "9. Find the revenue of highest budget movie?\n",
    "\n",
    "10. Revenue of Most Popular movie?"
   ]
  },
  {
   "cell_type": "code",
   "execution_count": 1,
   "metadata": {},
   "outputs": [],
   "source": [
    "#first of all import the required libraries before going on the next phase of data analysis.\n",
    "import pandas as pd\n",
    "import matplotlib.pyplot as plt\n",
    "import seaborn as sns\n",
    "%matplotlib inline\n",
    "import numpy as np"
   ]
  },
  {
   "cell_type": "markdown",
   "metadata": {},
   "source": [
    "# 2.Data Wrangling"
   ]
  },
  {
   "cell_type": "markdown",
   "metadata": {},
   "source": [
    "In this section i will load in the data, check for cleanliness, and then trim and clean  dataset for analysis."
   ]
  },
  {
   "cell_type": "markdown",
   "metadata": {},
   "source": [
    "### General Properties"
   ]
  },
  {
   "cell_type": "code",
   "execution_count": 2,
   "metadata": {},
   "outputs": [],
   "source": [
    "#loading data(CSV file) using pandas library \n",
    "df_tmdb=pd.read_csv(\"tmdb-movies.csv\")"
   ]
  },
  {
   "cell_type": "code",
   "execution_count": 3,
   "metadata": {},
   "outputs": [
    {
     "name": "stdout",
     "output_type": "stream",
     "text": [
      "<class 'pandas.core.frame.DataFrame'>\n",
      "RangeIndex: 10866 entries, 0 to 10865\n",
      "Data columns (total 21 columns):\n",
      "id                      10866 non-null int64\n",
      "imdb_id                 10856 non-null object\n",
      "popularity              10866 non-null float64\n",
      "budget                  10866 non-null int64\n",
      "revenue                 10866 non-null int64\n",
      "original_title          10866 non-null object\n",
      "cast                    10790 non-null object\n",
      "homepage                2936 non-null object\n",
      "director                10822 non-null object\n",
      "tagline                 8042 non-null object\n",
      "keywords                9373 non-null object\n",
      "overview                10862 non-null object\n",
      "runtime                 10866 non-null int64\n",
      "genres                  10843 non-null object\n",
      "production_companies    9836 non-null object\n",
      "release_date            10866 non-null object\n",
      "vote_count              10866 non-null int64\n",
      "vote_average            10866 non-null float64\n",
      "release_year            10866 non-null int64\n",
      "budget_adj              10866 non-null float64\n",
      "revenue_adj             10866 non-null float64\n",
      "dtypes: float64(4), int64(6), object(11)\n",
      "memory usage: 1.7+ MB\n"
     ]
    }
   ],
   "source": [
    "#the sumerized information about dataset\n",
    "df_tmdb.info()"
   ]
  },
  {
   "cell_type": "code",
   "execution_count": 4,
   "metadata": {},
   "outputs": [
    {
     "data": {
      "text/html": [
       "<div>\n",
       "<style scoped>\n",
       "    .dataframe tbody tr th:only-of-type {\n",
       "        vertical-align: middle;\n",
       "    }\n",
       "\n",
       "    .dataframe tbody tr th {\n",
       "        vertical-align: top;\n",
       "    }\n",
       "\n",
       "    .dataframe thead th {\n",
       "        text-align: right;\n",
       "    }\n",
       "</style>\n",
       "<table border=\"1\" class=\"dataframe\">\n",
       "  <thead>\n",
       "    <tr style=\"text-align: right;\">\n",
       "      <th></th>\n",
       "      <th>id</th>\n",
       "      <th>imdb_id</th>\n",
       "      <th>popularity</th>\n",
       "      <th>budget</th>\n",
       "      <th>revenue</th>\n",
       "      <th>original_title</th>\n",
       "      <th>cast</th>\n",
       "      <th>homepage</th>\n",
       "      <th>director</th>\n",
       "      <th>tagline</th>\n",
       "      <th>...</th>\n",
       "      <th>overview</th>\n",
       "      <th>runtime</th>\n",
       "      <th>genres</th>\n",
       "      <th>production_companies</th>\n",
       "      <th>release_date</th>\n",
       "      <th>vote_count</th>\n",
       "      <th>vote_average</th>\n",
       "      <th>release_year</th>\n",
       "      <th>budget_adj</th>\n",
       "      <th>revenue_adj</th>\n",
       "    </tr>\n",
       "  </thead>\n",
       "  <tbody>\n",
       "    <tr>\n",
       "      <th>0</th>\n",
       "      <td>135397</td>\n",
       "      <td>tt0369610</td>\n",
       "      <td>32.985763</td>\n",
       "      <td>150000000</td>\n",
       "      <td>1513528810</td>\n",
       "      <td>Jurassic World</td>\n",
       "      <td>Chris Pratt|Bryce Dallas Howard|Irrfan Khan|Vi...</td>\n",
       "      <td>http://www.jurassicworld.com/</td>\n",
       "      <td>Colin Trevorrow</td>\n",
       "      <td>The park is open.</td>\n",
       "      <td>...</td>\n",
       "      <td>Twenty-two years after the events of Jurassic ...</td>\n",
       "      <td>124</td>\n",
       "      <td>Action|Adventure|Science Fiction|Thriller</td>\n",
       "      <td>Universal Studios|Amblin Entertainment|Legenda...</td>\n",
       "      <td>6/9/15</td>\n",
       "      <td>5562</td>\n",
       "      <td>6.5</td>\n",
       "      <td>2015</td>\n",
       "      <td>1.379999e+08</td>\n",
       "      <td>1.392446e+09</td>\n",
       "    </tr>\n",
       "    <tr>\n",
       "      <th>1</th>\n",
       "      <td>76341</td>\n",
       "      <td>tt1392190</td>\n",
       "      <td>28.419936</td>\n",
       "      <td>150000000</td>\n",
       "      <td>378436354</td>\n",
       "      <td>Mad Max: Fury Road</td>\n",
       "      <td>Tom Hardy|Charlize Theron|Hugh Keays-Byrne|Nic...</td>\n",
       "      <td>http://www.madmaxmovie.com/</td>\n",
       "      <td>George Miller</td>\n",
       "      <td>What a Lovely Day.</td>\n",
       "      <td>...</td>\n",
       "      <td>An apocalyptic story set in the furthest reach...</td>\n",
       "      <td>120</td>\n",
       "      <td>Action|Adventure|Science Fiction|Thriller</td>\n",
       "      <td>Village Roadshow Pictures|Kennedy Miller Produ...</td>\n",
       "      <td>5/13/15</td>\n",
       "      <td>6185</td>\n",
       "      <td>7.1</td>\n",
       "      <td>2015</td>\n",
       "      <td>1.379999e+08</td>\n",
       "      <td>3.481613e+08</td>\n",
       "    </tr>\n",
       "    <tr>\n",
       "      <th>2</th>\n",
       "      <td>262500</td>\n",
       "      <td>tt2908446</td>\n",
       "      <td>13.112507</td>\n",
       "      <td>110000000</td>\n",
       "      <td>295238201</td>\n",
       "      <td>Insurgent</td>\n",
       "      <td>Shailene Woodley|Theo James|Kate Winslet|Ansel...</td>\n",
       "      <td>http://www.thedivergentseries.movie/#insurgent</td>\n",
       "      <td>Robert Schwentke</td>\n",
       "      <td>One Choice Can Destroy You</td>\n",
       "      <td>...</td>\n",
       "      <td>Beatrice Prior must confront her inner demons ...</td>\n",
       "      <td>119</td>\n",
       "      <td>Adventure|Science Fiction|Thriller</td>\n",
       "      <td>Summit Entertainment|Mandeville Films|Red Wago...</td>\n",
       "      <td>3/18/15</td>\n",
       "      <td>2480</td>\n",
       "      <td>6.3</td>\n",
       "      <td>2015</td>\n",
       "      <td>1.012000e+08</td>\n",
       "      <td>2.716190e+08</td>\n",
       "    </tr>\n",
       "  </tbody>\n",
       "</table>\n",
       "<p>3 rows × 21 columns</p>\n",
       "</div>"
      ],
      "text/plain": [
       "       id    imdb_id  popularity     budget     revenue      original_title  \\\n",
       "0  135397  tt0369610   32.985763  150000000  1513528810      Jurassic World   \n",
       "1   76341  tt1392190   28.419936  150000000   378436354  Mad Max: Fury Road   \n",
       "2  262500  tt2908446   13.112507  110000000   295238201           Insurgent   \n",
       "\n",
       "                                                cast  \\\n",
       "0  Chris Pratt|Bryce Dallas Howard|Irrfan Khan|Vi...   \n",
       "1  Tom Hardy|Charlize Theron|Hugh Keays-Byrne|Nic...   \n",
       "2  Shailene Woodley|Theo James|Kate Winslet|Ansel...   \n",
       "\n",
       "                                         homepage          director  \\\n",
       "0                   http://www.jurassicworld.com/   Colin Trevorrow   \n",
       "1                     http://www.madmaxmovie.com/     George Miller   \n",
       "2  http://www.thedivergentseries.movie/#insurgent  Robert Schwentke   \n",
       "\n",
       "                      tagline  ...  \\\n",
       "0           The park is open.  ...   \n",
       "1          What a Lovely Day.  ...   \n",
       "2  One Choice Can Destroy You  ...   \n",
       "\n",
       "                                            overview runtime  \\\n",
       "0  Twenty-two years after the events of Jurassic ...     124   \n",
       "1  An apocalyptic story set in the furthest reach...     120   \n",
       "2  Beatrice Prior must confront her inner demons ...     119   \n",
       "\n",
       "                                      genres  \\\n",
       "0  Action|Adventure|Science Fiction|Thriller   \n",
       "1  Action|Adventure|Science Fiction|Thriller   \n",
       "2         Adventure|Science Fiction|Thriller   \n",
       "\n",
       "                                production_companies release_date vote_count  \\\n",
       "0  Universal Studios|Amblin Entertainment|Legenda...       6/9/15       5562   \n",
       "1  Village Roadshow Pictures|Kennedy Miller Produ...      5/13/15       6185   \n",
       "2  Summit Entertainment|Mandeville Films|Red Wago...      3/18/15       2480   \n",
       "\n",
       "   vote_average  release_year    budget_adj   revenue_adj  \n",
       "0           6.5          2015  1.379999e+08  1.392446e+09  \n",
       "1           7.1          2015  1.379999e+08  3.481613e+08  \n",
       "2           6.3          2015  1.012000e+08  2.716190e+08  \n",
       "\n",
       "[3 rows x 21 columns]"
      ]
     },
     "execution_count": 4,
     "metadata": {},
     "output_type": "execute_result"
    }
   ],
   "source": [
    "#First 3 rows of the dataset to take a glimpse of dataset.\n",
    "df_tmdb.head(3)"
   ]
  },
  {
   "cell_type": "code",
   "execution_count": 5,
   "metadata": {},
   "outputs": [
    {
     "data": {
      "text/html": [
       "<div>\n",
       "<style scoped>\n",
       "    .dataframe tbody tr th:only-of-type {\n",
       "        vertical-align: middle;\n",
       "    }\n",
       "\n",
       "    .dataframe tbody tr th {\n",
       "        vertical-align: top;\n",
       "    }\n",
       "\n",
       "    .dataframe thead th {\n",
       "        text-align: right;\n",
       "    }\n",
       "</style>\n",
       "<table border=\"1\" class=\"dataframe\">\n",
       "  <thead>\n",
       "    <tr style=\"text-align: right;\">\n",
       "      <th></th>\n",
       "      <th>id</th>\n",
       "      <th>imdb_id</th>\n",
       "      <th>popularity</th>\n",
       "      <th>budget</th>\n",
       "      <th>revenue</th>\n",
       "      <th>original_title</th>\n",
       "      <th>cast</th>\n",
       "      <th>homepage</th>\n",
       "      <th>director</th>\n",
       "      <th>tagline</th>\n",
       "      <th>...</th>\n",
       "      <th>overview</th>\n",
       "      <th>runtime</th>\n",
       "      <th>genres</th>\n",
       "      <th>production_companies</th>\n",
       "      <th>release_date</th>\n",
       "      <th>vote_count</th>\n",
       "      <th>vote_average</th>\n",
       "      <th>release_year</th>\n",
       "      <th>budget_adj</th>\n",
       "      <th>revenue_adj</th>\n",
       "    </tr>\n",
       "  </thead>\n",
       "  <tbody>\n",
       "    <tr>\n",
       "      <th>10863</th>\n",
       "      <td>39768</td>\n",
       "      <td>tt0060161</td>\n",
       "      <td>0.065141</td>\n",
       "      <td>0</td>\n",
       "      <td>0</td>\n",
       "      <td>Beregis Avtomobilya</td>\n",
       "      <td>Innokentiy Smoktunovskiy|Oleg Efremov|Georgi Z...</td>\n",
       "      <td>NaN</td>\n",
       "      <td>Eldar Ryazanov</td>\n",
       "      <td>NaN</td>\n",
       "      <td>...</td>\n",
       "      <td>An insurance agent who moonlights as a carthie...</td>\n",
       "      <td>94</td>\n",
       "      <td>Mystery|Comedy</td>\n",
       "      <td>Mosfilm</td>\n",
       "      <td>1/1/66</td>\n",
       "      <td>11</td>\n",
       "      <td>6.5</td>\n",
       "      <td>1966</td>\n",
       "      <td>0.000000</td>\n",
       "      <td>0.0</td>\n",
       "    </tr>\n",
       "    <tr>\n",
       "      <th>10864</th>\n",
       "      <td>21449</td>\n",
       "      <td>tt0061177</td>\n",
       "      <td>0.064317</td>\n",
       "      <td>0</td>\n",
       "      <td>0</td>\n",
       "      <td>What's Up, Tiger Lily?</td>\n",
       "      <td>Tatsuya Mihashi|Akiko Wakabayashi|Mie Hama|Joh...</td>\n",
       "      <td>NaN</td>\n",
       "      <td>Woody Allen</td>\n",
       "      <td>WOODY ALLEN STRIKES BACK!</td>\n",
       "      <td>...</td>\n",
       "      <td>In comic Woody Allen's film debut, he took the...</td>\n",
       "      <td>80</td>\n",
       "      <td>Action|Comedy</td>\n",
       "      <td>Benedict Pictures Corp.</td>\n",
       "      <td>11/2/66</td>\n",
       "      <td>22</td>\n",
       "      <td>5.4</td>\n",
       "      <td>1966</td>\n",
       "      <td>0.000000</td>\n",
       "      <td>0.0</td>\n",
       "    </tr>\n",
       "    <tr>\n",
       "      <th>10865</th>\n",
       "      <td>22293</td>\n",
       "      <td>tt0060666</td>\n",
       "      <td>0.035919</td>\n",
       "      <td>19000</td>\n",
       "      <td>0</td>\n",
       "      <td>Manos: The Hands of Fate</td>\n",
       "      <td>Harold P. Warren|Tom Neyman|John Reynolds|Dian...</td>\n",
       "      <td>NaN</td>\n",
       "      <td>Harold P. Warren</td>\n",
       "      <td>It's Shocking! It's Beyond Your Imagination!</td>\n",
       "      <td>...</td>\n",
       "      <td>A family gets lost on the road and stumbles up...</td>\n",
       "      <td>74</td>\n",
       "      <td>Horror</td>\n",
       "      <td>Norm-Iris</td>\n",
       "      <td>11/15/66</td>\n",
       "      <td>15</td>\n",
       "      <td>1.5</td>\n",
       "      <td>1966</td>\n",
       "      <td>127642.279154</td>\n",
       "      <td>0.0</td>\n",
       "    </tr>\n",
       "  </tbody>\n",
       "</table>\n",
       "<p>3 rows × 21 columns</p>\n",
       "</div>"
      ],
      "text/plain": [
       "          id    imdb_id  popularity  budget  revenue  \\\n",
       "10863  39768  tt0060161    0.065141       0        0   \n",
       "10864  21449  tt0061177    0.064317       0        0   \n",
       "10865  22293  tt0060666    0.035919   19000        0   \n",
       "\n",
       "                 original_title  \\\n",
       "10863       Beregis Avtomobilya   \n",
       "10864    What's Up, Tiger Lily?   \n",
       "10865  Manos: The Hands of Fate   \n",
       "\n",
       "                                                    cast homepage  \\\n",
       "10863  Innokentiy Smoktunovskiy|Oleg Efremov|Georgi Z...      NaN   \n",
       "10864  Tatsuya Mihashi|Akiko Wakabayashi|Mie Hama|Joh...      NaN   \n",
       "10865  Harold P. Warren|Tom Neyman|John Reynolds|Dian...      NaN   \n",
       "\n",
       "               director                                       tagline  ...  \\\n",
       "10863    Eldar Ryazanov                                           NaN  ...   \n",
       "10864       Woody Allen                     WOODY ALLEN STRIKES BACK!  ...   \n",
       "10865  Harold P. Warren  It's Shocking! It's Beyond Your Imagination!  ...   \n",
       "\n",
       "                                                overview runtime  \\\n",
       "10863  An insurance agent who moonlights as a carthie...      94   \n",
       "10864  In comic Woody Allen's film debut, he took the...      80   \n",
       "10865  A family gets lost on the road and stumbles up...      74   \n",
       "\n",
       "               genres     production_companies release_date vote_count  \\\n",
       "10863  Mystery|Comedy                  Mosfilm       1/1/66         11   \n",
       "10864   Action|Comedy  Benedict Pictures Corp.      11/2/66         22   \n",
       "10865          Horror                Norm-Iris     11/15/66         15   \n",
       "\n",
       "       vote_average  release_year     budget_adj  revenue_adj  \n",
       "10863           6.5          1966       0.000000          0.0  \n",
       "10864           5.4          1966       0.000000          0.0  \n",
       "10865           1.5          1966  127642.279154          0.0  \n",
       "\n",
       "[3 rows x 21 columns]"
      ]
     },
     "execution_count": 5,
     "metadata": {},
     "output_type": "execute_result"
    }
   ],
   "source": [
    "#last 3 rows of the dataset\n",
    "df_tmdb.tail(3)"
   ]
  },
  {
   "cell_type": "code",
   "execution_count": 6,
   "metadata": {},
   "outputs": [
    {
     "data": {
      "text/plain": [
       "Index(['id', 'imdb_id', 'popularity', 'budget', 'revenue', 'original_title',\n",
       "       'cast', 'homepage', 'director', 'tagline', 'keywords', 'overview',\n",
       "       'runtime', 'genres', 'production_companies', 'release_date',\n",
       "       'vote_count', 'vote_average', 'release_year', 'budget_adj',\n",
       "       'revenue_adj'],\n",
       "      dtype='object')"
      ]
     },
     "execution_count": 6,
     "metadata": {},
     "output_type": "execute_result"
    }
   ],
   "source": [
    "#there are too many columns and some are hidden\n",
    "#let's dig out each column.\n",
    "df_tmdb.columns"
   ]
  },
  {
   "cell_type": "code",
   "execution_count": 7,
   "metadata": {},
   "outputs": [
    {
     "data": {
      "text/html": [
       "<div>\n",
       "<style scoped>\n",
       "    .dataframe tbody tr th:only-of-type {\n",
       "        vertical-align: middle;\n",
       "    }\n",
       "\n",
       "    .dataframe tbody tr th {\n",
       "        vertical-align: top;\n",
       "    }\n",
       "\n",
       "    .dataframe thead th {\n",
       "        text-align: right;\n",
       "    }\n",
       "</style>\n",
       "<table border=\"1\" class=\"dataframe\">\n",
       "  <thead>\n",
       "    <tr style=\"text-align: right;\">\n",
       "      <th></th>\n",
       "      <th>id</th>\n",
       "      <th>popularity</th>\n",
       "      <th>budget</th>\n",
       "      <th>revenue</th>\n",
       "      <th>runtime</th>\n",
       "      <th>vote_count</th>\n",
       "      <th>vote_average</th>\n",
       "      <th>release_year</th>\n",
       "      <th>budget_adj</th>\n",
       "      <th>revenue_adj</th>\n",
       "    </tr>\n",
       "  </thead>\n",
       "  <tbody>\n",
       "    <tr>\n",
       "      <th>count</th>\n",
       "      <td>10866.000000</td>\n",
       "      <td>10866.000000</td>\n",
       "      <td>1.086600e+04</td>\n",
       "      <td>1.086600e+04</td>\n",
       "      <td>10866.000000</td>\n",
       "      <td>10866.000000</td>\n",
       "      <td>10866.000000</td>\n",
       "      <td>10866.000000</td>\n",
       "      <td>1.086600e+04</td>\n",
       "      <td>1.086600e+04</td>\n",
       "    </tr>\n",
       "    <tr>\n",
       "      <th>mean</th>\n",
       "      <td>66064.177434</td>\n",
       "      <td>0.646441</td>\n",
       "      <td>1.462570e+07</td>\n",
       "      <td>3.982332e+07</td>\n",
       "      <td>102.070863</td>\n",
       "      <td>217.389748</td>\n",
       "      <td>5.974922</td>\n",
       "      <td>2001.322658</td>\n",
       "      <td>1.755104e+07</td>\n",
       "      <td>5.136436e+07</td>\n",
       "    </tr>\n",
       "    <tr>\n",
       "      <th>std</th>\n",
       "      <td>92130.136561</td>\n",
       "      <td>1.000185</td>\n",
       "      <td>3.091321e+07</td>\n",
       "      <td>1.170035e+08</td>\n",
       "      <td>31.381405</td>\n",
       "      <td>575.619058</td>\n",
       "      <td>0.935142</td>\n",
       "      <td>12.812941</td>\n",
       "      <td>3.430616e+07</td>\n",
       "      <td>1.446325e+08</td>\n",
       "    </tr>\n",
       "    <tr>\n",
       "      <th>min</th>\n",
       "      <td>5.000000</td>\n",
       "      <td>0.000065</td>\n",
       "      <td>0.000000e+00</td>\n",
       "      <td>0.000000e+00</td>\n",
       "      <td>0.000000</td>\n",
       "      <td>10.000000</td>\n",
       "      <td>1.500000</td>\n",
       "      <td>1960.000000</td>\n",
       "      <td>0.000000e+00</td>\n",
       "      <td>0.000000e+00</td>\n",
       "    </tr>\n",
       "    <tr>\n",
       "      <th>25%</th>\n",
       "      <td>10596.250000</td>\n",
       "      <td>0.207583</td>\n",
       "      <td>0.000000e+00</td>\n",
       "      <td>0.000000e+00</td>\n",
       "      <td>90.000000</td>\n",
       "      <td>17.000000</td>\n",
       "      <td>5.400000</td>\n",
       "      <td>1995.000000</td>\n",
       "      <td>0.000000e+00</td>\n",
       "      <td>0.000000e+00</td>\n",
       "    </tr>\n",
       "    <tr>\n",
       "      <th>50%</th>\n",
       "      <td>20669.000000</td>\n",
       "      <td>0.383856</td>\n",
       "      <td>0.000000e+00</td>\n",
       "      <td>0.000000e+00</td>\n",
       "      <td>99.000000</td>\n",
       "      <td>38.000000</td>\n",
       "      <td>6.000000</td>\n",
       "      <td>2006.000000</td>\n",
       "      <td>0.000000e+00</td>\n",
       "      <td>0.000000e+00</td>\n",
       "    </tr>\n",
       "    <tr>\n",
       "      <th>75%</th>\n",
       "      <td>75610.000000</td>\n",
       "      <td>0.713817</td>\n",
       "      <td>1.500000e+07</td>\n",
       "      <td>2.400000e+07</td>\n",
       "      <td>111.000000</td>\n",
       "      <td>145.750000</td>\n",
       "      <td>6.600000</td>\n",
       "      <td>2011.000000</td>\n",
       "      <td>2.085325e+07</td>\n",
       "      <td>3.369710e+07</td>\n",
       "    </tr>\n",
       "    <tr>\n",
       "      <th>max</th>\n",
       "      <td>417859.000000</td>\n",
       "      <td>32.985763</td>\n",
       "      <td>4.250000e+08</td>\n",
       "      <td>2.781506e+09</td>\n",
       "      <td>900.000000</td>\n",
       "      <td>9767.000000</td>\n",
       "      <td>9.200000</td>\n",
       "      <td>2015.000000</td>\n",
       "      <td>4.250000e+08</td>\n",
       "      <td>2.827124e+09</td>\n",
       "    </tr>\n",
       "  </tbody>\n",
       "</table>\n",
       "</div>"
      ],
      "text/plain": [
       "                  id    popularity        budget       revenue       runtime  \\\n",
       "count   10866.000000  10866.000000  1.086600e+04  1.086600e+04  10866.000000   \n",
       "mean    66064.177434      0.646441  1.462570e+07  3.982332e+07    102.070863   \n",
       "std     92130.136561      1.000185  3.091321e+07  1.170035e+08     31.381405   \n",
       "min         5.000000      0.000065  0.000000e+00  0.000000e+00      0.000000   \n",
       "25%     10596.250000      0.207583  0.000000e+00  0.000000e+00     90.000000   \n",
       "50%     20669.000000      0.383856  0.000000e+00  0.000000e+00     99.000000   \n",
       "75%     75610.000000      0.713817  1.500000e+07  2.400000e+07    111.000000   \n",
       "max    417859.000000     32.985763  4.250000e+08  2.781506e+09    900.000000   \n",
       "\n",
       "         vote_count  vote_average  release_year    budget_adj   revenue_adj  \n",
       "count  10866.000000  10866.000000  10866.000000  1.086600e+04  1.086600e+04  \n",
       "mean     217.389748      5.974922   2001.322658  1.755104e+07  5.136436e+07  \n",
       "std      575.619058      0.935142     12.812941  3.430616e+07  1.446325e+08  \n",
       "min       10.000000      1.500000   1960.000000  0.000000e+00  0.000000e+00  \n",
       "25%       17.000000      5.400000   1995.000000  0.000000e+00  0.000000e+00  \n",
       "50%       38.000000      6.000000   2006.000000  0.000000e+00  0.000000e+00  \n",
       "75%      145.750000      6.600000   2011.000000  2.085325e+07  3.369710e+07  \n",
       "max     9767.000000      9.200000   2015.000000  4.250000e+08  2.827124e+09  "
      ]
     },
     "execution_count": 7,
     "metadata": {},
     "output_type": "execute_result"
    }
   ],
   "source": [
    "#the statistical summary of the data \n",
    "df_tmdb.describe()"
   ]
  },
  {
   "cell_type": "markdown",
   "metadata": {},
   "source": [
    "### Data Cleaning(Removing Unwanted Data )"
   ]
  },
  {
   "cell_type": "markdown",
   "metadata": {},
   "source": [
    "First we will look at the missing values in the data set"
   ]
  },
  {
   "cell_type": "code",
   "execution_count": 8,
   "metadata": {},
   "outputs": [
    {
     "data": {
      "text/plain": [
       "id                         0\n",
       "imdb_id                   10\n",
       "popularity                 0\n",
       "budget                     0\n",
       "revenue                    0\n",
       "original_title             0\n",
       "cast                      76\n",
       "homepage                7930\n",
       "director                  44\n",
       "tagline                 2824\n",
       "keywords                1493\n",
       "overview                   4\n",
       "runtime                    0\n",
       "genres                    23\n",
       "production_companies    1030\n",
       "release_date               0\n",
       "vote_count                 0\n",
       "vote_average               0\n",
       "release_year               0\n",
       "budget_adj                 0\n",
       "revenue_adj                0\n",
       "dtype: int64"
      ]
     },
     "execution_count": 8,
     "metadata": {},
     "output_type": "execute_result"
    }
   ],
   "source": [
    "#to get the missing values in the columns.\n",
    "df_tmdb.isna().sum()"
   ]
  },
  {
   "cell_type": "markdown",
   "metadata": {},
   "source": [
    "we can see that 'homepage ','tagline','overview','production_companies' has very large number of missing values."
   ]
  },
  {
   "cell_type": "markdown",
   "metadata": {},
   "source": [
    "#### Steps To Delete Or Modify The dataset"
   ]
  },
  {
   "cell_type": "markdown",
   "metadata": {},
   "source": [
    "1.Remove the unused columns and rows(if necessary) with missing values.\n",
    "\n",
    "2.Remove duplicate rows from the dataset.\n",
    "\n",
    "3.Change format if necessary.\n",
    "\n",
    "4.Treatment of outliers"
   ]
  },
  {
   "cell_type": "markdown",
   "metadata": {},
   "source": [
    "#### 1.Remove the unused columns  with missing values."
   ]
  },
  {
   "cell_type": "markdown",
   "metadata": {},
   "source": [
    "Since few columns which are not usable in the data analysis process.columns are: imdb_id, keywords, homepage,tagline,overview and budget_adj,revenue_adj has huge number of 0 values so we can drop it. So these are the columns that are not involved in the analysis process."
   ]
  },
  {
   "cell_type": "code",
   "execution_count": 9,
   "metadata": {},
   "outputs": [],
   "source": [
    "#removing the unused columns using drop() function.\n",
    "df_tmdb.drop(['overview','imdb_id','homepage','tagline','budget_adj','revenue_adj','keywords','production_companies'],axis =1,inplace = True)"
   ]
  },
  {
   "cell_type": "code",
   "execution_count": 10,
   "metadata": {},
   "outputs": [
    {
     "data": {
      "text/plain": [
       "(10866, 13)"
      ]
     },
     "execution_count": 10,
     "metadata": {},
     "output_type": "execute_result"
    }
   ],
   "source": [
    "#check rows and columns again\n",
    "#we are left with 13 columns now.\n",
    "df_tmdb.shape"
   ]
  },
  {
   "cell_type": "code",
   "execution_count": 11,
   "metadata": {},
   "outputs": [
    {
     "data": {
      "text/html": [
       "<div>\n",
       "<style scoped>\n",
       "    .dataframe tbody tr th:only-of-type {\n",
       "        vertical-align: middle;\n",
       "    }\n",
       "\n",
       "    .dataframe tbody tr th {\n",
       "        vertical-align: top;\n",
       "    }\n",
       "\n",
       "    .dataframe thead th {\n",
       "        text-align: right;\n",
       "    }\n",
       "</style>\n",
       "<table border=\"1\" class=\"dataframe\">\n",
       "  <thead>\n",
       "    <tr style=\"text-align: right;\">\n",
       "      <th></th>\n",
       "      <th>id</th>\n",
       "      <th>popularity</th>\n",
       "      <th>budget</th>\n",
       "      <th>revenue</th>\n",
       "      <th>original_title</th>\n",
       "      <th>cast</th>\n",
       "      <th>director</th>\n",
       "      <th>runtime</th>\n",
       "      <th>genres</th>\n",
       "      <th>release_date</th>\n",
       "      <th>vote_count</th>\n",
       "      <th>vote_average</th>\n",
       "      <th>release_year</th>\n",
       "    </tr>\n",
       "  </thead>\n",
       "  <tbody>\n",
       "    <tr>\n",
       "      <th>0</th>\n",
       "      <td>135397</td>\n",
       "      <td>32.985763</td>\n",
       "      <td>150000000</td>\n",
       "      <td>1513528810</td>\n",
       "      <td>Jurassic World</td>\n",
       "      <td>Chris Pratt|Bryce Dallas Howard|Irrfan Khan|Vi...</td>\n",
       "      <td>Colin Trevorrow</td>\n",
       "      <td>124</td>\n",
       "      <td>Action|Adventure|Science Fiction|Thriller</td>\n",
       "      <td>6/9/15</td>\n",
       "      <td>5562</td>\n",
       "      <td>6.5</td>\n",
       "      <td>2015</td>\n",
       "    </tr>\n",
       "    <tr>\n",
       "      <th>1</th>\n",
       "      <td>76341</td>\n",
       "      <td>28.419936</td>\n",
       "      <td>150000000</td>\n",
       "      <td>378436354</td>\n",
       "      <td>Mad Max: Fury Road</td>\n",
       "      <td>Tom Hardy|Charlize Theron|Hugh Keays-Byrne|Nic...</td>\n",
       "      <td>George Miller</td>\n",
       "      <td>120</td>\n",
       "      <td>Action|Adventure|Science Fiction|Thriller</td>\n",
       "      <td>5/13/15</td>\n",
       "      <td>6185</td>\n",
       "      <td>7.1</td>\n",
       "      <td>2015</td>\n",
       "    </tr>\n",
       "    <tr>\n",
       "      <th>2</th>\n",
       "      <td>262500</td>\n",
       "      <td>13.112507</td>\n",
       "      <td>110000000</td>\n",
       "      <td>295238201</td>\n",
       "      <td>Insurgent</td>\n",
       "      <td>Shailene Woodley|Theo James|Kate Winslet|Ansel...</td>\n",
       "      <td>Robert Schwentke</td>\n",
       "      <td>119</td>\n",
       "      <td>Adventure|Science Fiction|Thriller</td>\n",
       "      <td>3/18/15</td>\n",
       "      <td>2480</td>\n",
       "      <td>6.3</td>\n",
       "      <td>2015</td>\n",
       "    </tr>\n",
       "    <tr>\n",
       "      <th>3</th>\n",
       "      <td>140607</td>\n",
       "      <td>11.173104</td>\n",
       "      <td>200000000</td>\n",
       "      <td>2068178225</td>\n",
       "      <td>Star Wars: The Force Awakens</td>\n",
       "      <td>Harrison Ford|Mark Hamill|Carrie Fisher|Adam D...</td>\n",
       "      <td>J.J. Abrams</td>\n",
       "      <td>136</td>\n",
       "      <td>Action|Adventure|Science Fiction|Fantasy</td>\n",
       "      <td>12/15/15</td>\n",
       "      <td>5292</td>\n",
       "      <td>7.5</td>\n",
       "      <td>2015</td>\n",
       "    </tr>\n",
       "    <tr>\n",
       "      <th>4</th>\n",
       "      <td>168259</td>\n",
       "      <td>9.335014</td>\n",
       "      <td>190000000</td>\n",
       "      <td>1506249360</td>\n",
       "      <td>Furious 7</td>\n",
       "      <td>Vin Diesel|Paul Walker|Jason Statham|Michelle ...</td>\n",
       "      <td>James Wan</td>\n",
       "      <td>137</td>\n",
       "      <td>Action|Crime|Thriller</td>\n",
       "      <td>4/1/15</td>\n",
       "      <td>2947</td>\n",
       "      <td>7.3</td>\n",
       "      <td>2015</td>\n",
       "    </tr>\n",
       "  </tbody>\n",
       "</table>\n",
       "</div>"
      ],
      "text/plain": [
       "       id  popularity     budget     revenue                original_title  \\\n",
       "0  135397   32.985763  150000000  1513528810                Jurassic World   \n",
       "1   76341   28.419936  150000000   378436354            Mad Max: Fury Road   \n",
       "2  262500   13.112507  110000000   295238201                     Insurgent   \n",
       "3  140607   11.173104  200000000  2068178225  Star Wars: The Force Awakens   \n",
       "4  168259    9.335014  190000000  1506249360                     Furious 7   \n",
       "\n",
       "                                                cast          director  \\\n",
       "0  Chris Pratt|Bryce Dallas Howard|Irrfan Khan|Vi...   Colin Trevorrow   \n",
       "1  Tom Hardy|Charlize Theron|Hugh Keays-Byrne|Nic...     George Miller   \n",
       "2  Shailene Woodley|Theo James|Kate Winslet|Ansel...  Robert Schwentke   \n",
       "3  Harrison Ford|Mark Hamill|Carrie Fisher|Adam D...       J.J. Abrams   \n",
       "4  Vin Diesel|Paul Walker|Jason Statham|Michelle ...         James Wan   \n",
       "\n",
       "   runtime                                     genres release_date  \\\n",
       "0      124  Action|Adventure|Science Fiction|Thriller       6/9/15   \n",
       "1      120  Action|Adventure|Science Fiction|Thriller      5/13/15   \n",
       "2      119         Adventure|Science Fiction|Thriller      3/18/15   \n",
       "3      136   Action|Adventure|Science Fiction|Fantasy     12/15/15   \n",
       "4      137                      Action|Crime|Thriller       4/1/15   \n",
       "\n",
       "   vote_count  vote_average  release_year  \n",
       "0        5562           6.5          2015  \n",
       "1        6185           7.1          2015  \n",
       "2        2480           6.3          2015  \n",
       "3        5292           7.5          2015  \n",
       "4        2947           7.3          2015  "
      ]
     },
     "execution_count": 11,
     "metadata": {},
     "output_type": "execute_result"
    }
   ],
   "source": [
    "df_tmdb.head()"
   ]
  },
  {
   "cell_type": "markdown",
   "metadata": {},
   "source": [
    "#### 2. Remove duplicate rows from dataset"
   ]
  },
  {
   "cell_type": "code",
   "execution_count": 12,
   "metadata": {},
   "outputs": [
    {
     "data": {
      "text/plain": [
       "1"
      ]
     },
     "execution_count": 12,
     "metadata": {},
     "output_type": "execute_result"
    }
   ],
   "source": [
    "#duplicated() function return the duplicate row as True and False\n",
    "#To count the duplicate elements we use sum() function.\n",
    "sum(df_tmdb.duplicated())"
   ]
  },
  {
   "cell_type": "code",
   "execution_count": 13,
   "metadata": {},
   "outputs": [],
   "source": [
    "# using drop_duplicates() function we can remove duplicate rows.\n",
    "df_tmdb.drop_duplicates(inplace = True)"
   ]
  },
  {
   "cell_type": "markdown",
   "metadata": {},
   "source": [
    "#### 3. Change format if necessary"
   ]
  },
  {
   "cell_type": "markdown",
   "metadata": {},
   "source": [
    "Due to the string fromat of 'release_date' column. we will have to change the format."
   ]
  },
  {
   "cell_type": "code",
   "execution_count": 14,
   "metadata": {},
   "outputs": [],
   "source": [
    "#changing the format or datatype of column.\n",
    "df_tmdb['release_date'] = pd.to_datetime(df_tmdb['release_date'])"
   ]
  },
  {
   "cell_type": "code",
   "execution_count": 15,
   "metadata": {},
   "outputs": [
    {
     "data": {
      "text/plain": [
       "0   2015-06-09\n",
       "1   2015-05-13\n",
       "Name: release_date, dtype: datetime64[ns]"
      ]
     },
     "execution_count": 15,
     "metadata": {},
     "output_type": "execute_result"
    }
   ],
   "source": [
    "#head to verify the apllied funcution.\n",
    "df_tmdb['release_date'].head(2)"
   ]
  },
  {
   "cell_type": "markdown",
   "metadata": {},
   "source": [
    "#### 4.Getting rid of missing values in rows"
   ]
  },
  {
   "cell_type": "markdown",
   "metadata": {},
   "source": [
    "since cast, director,genre are important columns and have missing values we should remove the coresponding rows"
   ]
  },
  {
   "cell_type": "code",
   "execution_count": 16,
   "metadata": {},
   "outputs": [],
   "source": [
    "#use dropna function to remove the missing vlaues\n",
    "df_tmdb=df_tmdb.dropna()"
   ]
  },
  {
   "cell_type": "code",
   "execution_count": 17,
   "metadata": {},
   "outputs": [
    {
     "data": {
      "text/plain": [
       "id                0\n",
       "popularity        0\n",
       "budget            0\n",
       "revenue           0\n",
       "original_title    0\n",
       "cast              0\n",
       "director          0\n",
       "runtime           0\n",
       "genres            0\n",
       "release_date      0\n",
       "vote_count        0\n",
       "vote_average      0\n",
       "release_year      0\n",
       "dtype: int64"
      ]
     },
     "execution_count": 17,
     "metadata": {},
     "output_type": "execute_result"
    }
   ],
   "source": [
    "#again recheck the missing values to varify.\n",
    "df_tmdb.isna().sum()"
   ]
  },
  {
   "cell_type": "markdown",
   "metadata": {},
   "source": [
    "#### 4.Treatment of Outliers"
   ]
  },
  {
   "cell_type": "markdown",
   "metadata": {},
   "source": [
    "Since the columns 'revenue','runtime' and 'budget' has outliers we need to treat them with mean, median, mode or if necessary delete the data"
   ]
  },
  {
   "cell_type": "code",
   "execution_count": 18,
   "metadata": {},
   "outputs": [
    {
     "data": {
      "image/png": "[encoded data removed]",
      "text/plain": [
       "<Figure size 1080x360 with 1 Axes>"
      ]
     },
     "metadata": {
      "needs_background": "light"
     },
     "output_type": "display_data"
    }
   ],
   "source": [
    "#plotting boxplot for revenue to see the frequency of outliers\n",
    "plt.figure(figsize=(15,5))\n",
    "sns.boxplot(\n",
    "    data=df_tmdb['revenue'],\n",
    "    color='red')\n",
    "plt.ylabel('revenue in million dollors')\n",
    "plt.xlabel('label')\n",
    "plt.title('To find Outliers')\n",
    "plt.show()"
   ]
  },
  {
   "cell_type": "markdown",
   "metadata": {},
   "source": [
    "with boxplot we can analyse that there is significant number of outliers and droping all of them will reduce our scope of analysis. therfore we will try to sort this problem with statistical models"
   ]
  },
  {
   "cell_type": "code",
   "execution_count": 19,
   "metadata": {},
   "outputs": [
    {
     "data": {
      "text/plain": [
       "5888"
      ]
     },
     "execution_count": 19,
     "metadata": {},
     "output_type": "execute_result"
    }
   ],
   "source": [
    "#calculating outlier i.e 0 in revenue column\n",
    "df_tmdb[df_tmdb['revenue']==0].count()['id']"
   ]
  },
  {
   "cell_type": "code",
   "execution_count": 20,
   "metadata": {},
   "outputs": [],
   "source": [
    "#replace function is used to make 0 to NAN value and further dealing with nan values will be easy\n",
    "df_tmdb=df_tmdb.replace(0,np.NaN)"
   ]
  },
  {
   "cell_type": "code",
   "execution_count": 21,
   "metadata": {},
   "outputs": [
    {
     "data": {
      "text/html": [
       "<div>\n",
       "<style scoped>\n",
       "    .dataframe tbody tr th:only-of-type {\n",
       "        vertical-align: middle;\n",
       "    }\n",
       "\n",
       "    .dataframe tbody tr th {\n",
       "        vertical-align: top;\n",
       "    }\n",
       "\n",
       "    .dataframe thead th {\n",
       "        text-align: right;\n",
       "    }\n",
       "</style>\n",
       "<table border=\"1\" class=\"dataframe\">\n",
       "  <thead>\n",
       "    <tr style=\"text-align: right;\">\n",
       "      <th></th>\n",
       "      <th>id</th>\n",
       "      <th>popularity</th>\n",
       "      <th>budget</th>\n",
       "      <th>revenue</th>\n",
       "      <th>original_title</th>\n",
       "      <th>cast</th>\n",
       "      <th>director</th>\n",
       "      <th>runtime</th>\n",
       "      <th>genres</th>\n",
       "      <th>release_date</th>\n",
       "      <th>vote_count</th>\n",
       "      <th>vote_average</th>\n",
       "      <th>release_year</th>\n",
       "    </tr>\n",
       "  </thead>\n",
       "  <tbody>\n",
       "    <tr>\n",
       "      <th>0</th>\n",
       "      <td>135397</td>\n",
       "      <td>32.985763</td>\n",
       "      <td>1.500000e+08</td>\n",
       "      <td>1.513529e+09</td>\n",
       "      <td>Jurassic World</td>\n",
       "      <td>Chris Pratt|Bryce Dallas Howard|Irrfan Khan|Vi...</td>\n",
       "      <td>Colin Trevorrow</td>\n",
       "      <td>124.0</td>\n",
       "      <td>Action|Adventure|Science Fiction|Thriller</td>\n",
       "      <td>2015-06-09</td>\n",
       "      <td>5562</td>\n",
       "      <td>6.5</td>\n",
       "      <td>2015</td>\n",
       "    </tr>\n",
       "    <tr>\n",
       "      <th>1</th>\n",
       "      <td>76341</td>\n",
       "      <td>28.419936</td>\n",
       "      <td>1.500000e+08</td>\n",
       "      <td>3.784364e+08</td>\n",
       "      <td>Mad Max: Fury Road</td>\n",
       "      <td>Tom Hardy|Charlize Theron|Hugh Keays-Byrne|Nic...</td>\n",
       "      <td>George Miller</td>\n",
       "      <td>120.0</td>\n",
       "      <td>Action|Adventure|Science Fiction|Thriller</td>\n",
       "      <td>2015-05-13</td>\n",
       "      <td>6185</td>\n",
       "      <td>7.1</td>\n",
       "      <td>2015</td>\n",
       "    </tr>\n",
       "    <tr>\n",
       "      <th>2</th>\n",
       "      <td>262500</td>\n",
       "      <td>13.112507</td>\n",
       "      <td>1.100000e+08</td>\n",
       "      <td>2.952382e+08</td>\n",
       "      <td>Insurgent</td>\n",
       "      <td>Shailene Woodley|Theo James|Kate Winslet|Ansel...</td>\n",
       "      <td>Robert Schwentke</td>\n",
       "      <td>119.0</td>\n",
       "      <td>Adventure|Science Fiction|Thriller</td>\n",
       "      <td>2015-03-18</td>\n",
       "      <td>2480</td>\n",
       "      <td>6.3</td>\n",
       "      <td>2015</td>\n",
       "    </tr>\n",
       "    <tr>\n",
       "      <th>3</th>\n",
       "      <td>140607</td>\n",
       "      <td>11.173104</td>\n",
       "      <td>2.000000e+08</td>\n",
       "      <td>2.068178e+09</td>\n",
       "      <td>Star Wars: The Force Awakens</td>\n",
       "      <td>Harrison Ford|Mark Hamill|Carrie Fisher|Adam D...</td>\n",
       "      <td>J.J. Abrams</td>\n",
       "      <td>136.0</td>\n",
       "      <td>Action|Adventure|Science Fiction|Fantasy</td>\n",
       "      <td>2015-12-15</td>\n",
       "      <td>5292</td>\n",
       "      <td>7.5</td>\n",
       "      <td>2015</td>\n",
       "    </tr>\n",
       "    <tr>\n",
       "      <th>4</th>\n",
       "      <td>168259</td>\n",
       "      <td>9.335014</td>\n",
       "      <td>1.900000e+08</td>\n",
       "      <td>1.506249e+09</td>\n",
       "      <td>Furious 7</td>\n",
       "      <td>Vin Diesel|Paul Walker|Jason Statham|Michelle ...</td>\n",
       "      <td>James Wan</td>\n",
       "      <td>137.0</td>\n",
       "      <td>Action|Crime|Thriller</td>\n",
       "      <td>2015-04-01</td>\n",
       "      <td>2947</td>\n",
       "      <td>7.3</td>\n",
       "      <td>2015</td>\n",
       "    </tr>\n",
       "    <tr>\n",
       "      <th>5</th>\n",
       "      <td>281957</td>\n",
       "      <td>9.110700</td>\n",
       "      <td>1.350000e+08</td>\n",
       "      <td>5.329505e+08</td>\n",
       "      <td>The Revenant</td>\n",
       "      <td>Leonardo DiCaprio|Tom Hardy|Will Poulter|Domhn...</td>\n",
       "      <td>Alejandro GonzÃ¡lez IÃ±Ã¡rritu</td>\n",
       "      <td>156.0</td>\n",
       "      <td>Western|Drama|Adventure|Thriller</td>\n",
       "      <td>2015-12-25</td>\n",
       "      <td>3929</td>\n",
       "      <td>7.2</td>\n",
       "      <td>2015</td>\n",
       "    </tr>\n",
       "    <tr>\n",
       "      <th>6</th>\n",
       "      <td>87101</td>\n",
       "      <td>8.654359</td>\n",
       "      <td>1.550000e+08</td>\n",
       "      <td>4.406035e+08</td>\n",
       "      <td>Terminator Genisys</td>\n",
       "      <td>Arnold Schwarzenegger|Jason Clarke|Emilia Clar...</td>\n",
       "      <td>Alan Taylor</td>\n",
       "      <td>125.0</td>\n",
       "      <td>Science Fiction|Action|Thriller|Adventure</td>\n",
       "      <td>2015-06-23</td>\n",
       "      <td>2598</td>\n",
       "      <td>5.8</td>\n",
       "      <td>2015</td>\n",
       "    </tr>\n",
       "    <tr>\n",
       "      <th>7</th>\n",
       "      <td>286217</td>\n",
       "      <td>7.667400</td>\n",
       "      <td>1.080000e+08</td>\n",
       "      <td>5.953803e+08</td>\n",
       "      <td>The Martian</td>\n",
       "      <td>Matt Damon|Jessica Chastain|Kristen Wiig|Jeff ...</td>\n",
       "      <td>Ridley Scott</td>\n",
       "      <td>141.0</td>\n",
       "      <td>Drama|Adventure|Science Fiction</td>\n",
       "      <td>2015-09-30</td>\n",
       "      <td>4572</td>\n",
       "      <td>7.6</td>\n",
       "      <td>2015</td>\n",
       "    </tr>\n",
       "    <tr>\n",
       "      <th>8</th>\n",
       "      <td>211672</td>\n",
       "      <td>7.404165</td>\n",
       "      <td>7.400000e+07</td>\n",
       "      <td>1.156731e+09</td>\n",
       "      <td>Minions</td>\n",
       "      <td>Sandra Bullock|Jon Hamm|Michael Keaton|Allison...</td>\n",
       "      <td>Kyle Balda|Pierre Coffin</td>\n",
       "      <td>91.0</td>\n",
       "      <td>Family|Animation|Adventure|Comedy</td>\n",
       "      <td>2015-06-17</td>\n",
       "      <td>2893</td>\n",
       "      <td>6.5</td>\n",
       "      <td>2015</td>\n",
       "    </tr>\n",
       "    <tr>\n",
       "      <th>9</th>\n",
       "      <td>150540</td>\n",
       "      <td>6.326804</td>\n",
       "      <td>1.750000e+08</td>\n",
       "      <td>8.537086e+08</td>\n",
       "      <td>Inside Out</td>\n",
       "      <td>Amy Poehler|Phyllis Smith|Richard Kind|Bill Ha...</td>\n",
       "      <td>Pete Docter</td>\n",
       "      <td>94.0</td>\n",
       "      <td>Comedy|Animation|Family</td>\n",
       "      <td>2015-06-09</td>\n",
       "      <td>3935</td>\n",
       "      <td>8.0</td>\n",
       "      <td>2015</td>\n",
       "    </tr>\n",
       "    <tr>\n",
       "      <th>10</th>\n",
       "      <td>206647</td>\n",
       "      <td>6.200282</td>\n",
       "      <td>2.450000e+08</td>\n",
       "      <td>8.806746e+08</td>\n",
       "      <td>Spectre</td>\n",
       "      <td>Daniel Craig|Christoph Waltz|LÃ©a Seydoux|Ralp...</td>\n",
       "      <td>Sam Mendes</td>\n",
       "      <td>148.0</td>\n",
       "      <td>Action|Adventure|Crime</td>\n",
       "      <td>2015-10-26</td>\n",
       "      <td>3254</td>\n",
       "      <td>6.2</td>\n",
       "      <td>2015</td>\n",
       "    </tr>\n",
       "    <tr>\n",
       "      <th>11</th>\n",
       "      <td>76757</td>\n",
       "      <td>6.189369</td>\n",
       "      <td>1.760000e+08</td>\n",
       "      <td>1.839877e+08</td>\n",
       "      <td>Jupiter Ascending</td>\n",
       "      <td>Mila Kunis|Channing Tatum|Sean Bean|Eddie Redm...</td>\n",
       "      <td>Lana Wachowski|Lilly Wachowski</td>\n",
       "      <td>124.0</td>\n",
       "      <td>Science Fiction|Fantasy|Action|Adventure</td>\n",
       "      <td>2015-02-04</td>\n",
       "      <td>1937</td>\n",
       "      <td>5.2</td>\n",
       "      <td>2015</td>\n",
       "    </tr>\n",
       "    <tr>\n",
       "      <th>12</th>\n",
       "      <td>264660</td>\n",
       "      <td>6.118847</td>\n",
       "      <td>1.500000e+07</td>\n",
       "      <td>3.686941e+07</td>\n",
       "      <td>Ex Machina</td>\n",
       "      <td>Domhnall Gleeson|Alicia Vikander|Oscar Isaac|S...</td>\n",
       "      <td>Alex Garland</td>\n",
       "      <td>108.0</td>\n",
       "      <td>Drama|Science Fiction</td>\n",
       "      <td>2015-01-21</td>\n",
       "      <td>2854</td>\n",
       "      <td>7.6</td>\n",
       "      <td>2015</td>\n",
       "    </tr>\n",
       "    <tr>\n",
       "      <th>13</th>\n",
       "      <td>257344</td>\n",
       "      <td>5.984995</td>\n",
       "      <td>8.800000e+07</td>\n",
       "      <td>2.436371e+08</td>\n",
       "      <td>Pixels</td>\n",
       "      <td>Adam Sandler|Michelle Monaghan|Peter Dinklage|...</td>\n",
       "      <td>Chris Columbus</td>\n",
       "      <td>105.0</td>\n",
       "      <td>Action|Comedy|Science Fiction</td>\n",
       "      <td>2015-07-16</td>\n",
       "      <td>1575</td>\n",
       "      <td>5.8</td>\n",
       "      <td>2015</td>\n",
       "    </tr>\n",
       "    <tr>\n",
       "      <th>14</th>\n",
       "      <td>99861</td>\n",
       "      <td>5.944927</td>\n",
       "      <td>2.800000e+08</td>\n",
       "      <td>1.405036e+09</td>\n",
       "      <td>Avengers: Age of Ultron</td>\n",
       "      <td>Robert Downey Jr.|Chris Hemsworth|Mark Ruffalo...</td>\n",
       "      <td>Joss Whedon</td>\n",
       "      <td>141.0</td>\n",
       "      <td>Action|Adventure|Science Fiction</td>\n",
       "      <td>2015-04-22</td>\n",
       "      <td>4304</td>\n",
       "      <td>7.4</td>\n",
       "      <td>2015</td>\n",
       "    </tr>\n",
       "    <tr>\n",
       "      <th>15</th>\n",
       "      <td>273248</td>\n",
       "      <td>5.898400</td>\n",
       "      <td>4.400000e+07</td>\n",
       "      <td>1.557601e+08</td>\n",
       "      <td>The Hateful Eight</td>\n",
       "      <td>Samuel L. Jackson|Kurt Russell|Jennifer Jason ...</td>\n",
       "      <td>Quentin Tarantino</td>\n",
       "      <td>167.0</td>\n",
       "      <td>Crime|Drama|Mystery|Western</td>\n",
       "      <td>2015-12-25</td>\n",
       "      <td>2389</td>\n",
       "      <td>7.4</td>\n",
       "      <td>2015</td>\n",
       "    </tr>\n",
       "    <tr>\n",
       "      <th>16</th>\n",
       "      <td>260346</td>\n",
       "      <td>5.749758</td>\n",
       "      <td>4.800000e+07</td>\n",
       "      <td>3.257714e+08</td>\n",
       "      <td>Taken 3</td>\n",
       "      <td>Liam Neeson|Forest Whitaker|Maggie Grace|Famke...</td>\n",
       "      <td>Olivier Megaton</td>\n",
       "      <td>109.0</td>\n",
       "      <td>Crime|Action|Thriller</td>\n",
       "      <td>2015-01-01</td>\n",
       "      <td>1578</td>\n",
       "      <td>6.1</td>\n",
       "      <td>2015</td>\n",
       "    </tr>\n",
       "    <tr>\n",
       "      <th>17</th>\n",
       "      <td>102899</td>\n",
       "      <td>5.573184</td>\n",
       "      <td>1.300000e+08</td>\n",
       "      <td>5.186022e+08</td>\n",
       "      <td>Ant-Man</td>\n",
       "      <td>Paul Rudd|Michael Douglas|Evangeline Lilly|Cor...</td>\n",
       "      <td>Peyton Reed</td>\n",
       "      <td>115.0</td>\n",
       "      <td>Science Fiction|Action|Adventure</td>\n",
       "      <td>2015-07-14</td>\n",
       "      <td>3779</td>\n",
       "      <td>7.0</td>\n",
       "      <td>2015</td>\n",
       "    </tr>\n",
       "    <tr>\n",
       "      <th>18</th>\n",
       "      <td>150689</td>\n",
       "      <td>5.556818</td>\n",
       "      <td>9.500000e+07</td>\n",
       "      <td>5.423514e+08</td>\n",
       "      <td>Cinderella</td>\n",
       "      <td>Lily James|Cate Blanchett|Richard Madden|Helen...</td>\n",
       "      <td>Kenneth Branagh</td>\n",
       "      <td>112.0</td>\n",
       "      <td>Romance|Fantasy|Family|Drama</td>\n",
       "      <td>2015-03-12</td>\n",
       "      <td>1495</td>\n",
       "      <td>6.8</td>\n",
       "      <td>2015</td>\n",
       "    </tr>\n",
       "    <tr>\n",
       "      <th>19</th>\n",
       "      <td>131634</td>\n",
       "      <td>5.476958</td>\n",
       "      <td>1.600000e+08</td>\n",
       "      <td>6.505234e+08</td>\n",
       "      <td>The Hunger Games: Mockingjay - Part 2</td>\n",
       "      <td>Jennifer Lawrence|Josh Hutcherson|Liam Hemswor...</td>\n",
       "      <td>Francis Lawrence</td>\n",
       "      <td>136.0</td>\n",
       "      <td>War|Adventure|Science Fiction</td>\n",
       "      <td>2015-11-18</td>\n",
       "      <td>2380</td>\n",
       "      <td>6.5</td>\n",
       "      <td>2015</td>\n",
       "    </tr>\n",
       "    <tr>\n",
       "      <th>20</th>\n",
       "      <td>158852</td>\n",
       "      <td>5.462138</td>\n",
       "      <td>1.900000e+08</td>\n",
       "      <td>2.090357e+08</td>\n",
       "      <td>Tomorrowland</td>\n",
       "      <td>Britt Robertson|George Clooney|Raffey Cassidy|...</td>\n",
       "      <td>Brad Bird</td>\n",
       "      <td>130.0</td>\n",
       "      <td>Action|Family|Science Fiction|Adventure|Mystery</td>\n",
       "      <td>2015-05-19</td>\n",
       "      <td>1899</td>\n",
       "      <td>6.2</td>\n",
       "      <td>2015</td>\n",
       "    </tr>\n",
       "    <tr>\n",
       "      <th>21</th>\n",
       "      <td>307081</td>\n",
       "      <td>5.337064</td>\n",
       "      <td>3.000000e+07</td>\n",
       "      <td>9.170983e+07</td>\n",
       "      <td>Southpaw</td>\n",
       "      <td>Jake Gyllenhaal|Rachel McAdams|Forest Whitaker...</td>\n",
       "      <td>Antoine Fuqua</td>\n",
       "      <td>123.0</td>\n",
       "      <td>Action|Drama</td>\n",
       "      <td>2015-06-15</td>\n",
       "      <td>1386</td>\n",
       "      <td>7.3</td>\n",
       "      <td>2015</td>\n",
       "    </tr>\n",
       "    <tr>\n",
       "      <th>22</th>\n",
       "      <td>254128</td>\n",
       "      <td>4.907832</td>\n",
       "      <td>1.100000e+08</td>\n",
       "      <td>4.704908e+08</td>\n",
       "      <td>San Andreas</td>\n",
       "      <td>Dwayne Johnson|Alexandra Daddario|Carla Gugino...</td>\n",
       "      <td>Brad Peyton</td>\n",
       "      <td>114.0</td>\n",
       "      <td>Action|Drama|Thriller</td>\n",
       "      <td>2015-05-27</td>\n",
       "      <td>2060</td>\n",
       "      <td>6.1</td>\n",
       "      <td>2015</td>\n",
       "    </tr>\n",
       "    <tr>\n",
       "      <th>23</th>\n",
       "      <td>216015</td>\n",
       "      <td>4.710402</td>\n",
       "      <td>4.000000e+07</td>\n",
       "      <td>5.696515e+08</td>\n",
       "      <td>Fifty Shades of Grey</td>\n",
       "      <td>Dakota Johnson|Jamie Dornan|Jennifer Ehle|Eloi...</td>\n",
       "      <td>Sam Taylor-Johnson</td>\n",
       "      <td>125.0</td>\n",
       "      <td>Drama|Romance</td>\n",
       "      <td>2015-02-11</td>\n",
       "      <td>1865</td>\n",
       "      <td>5.3</td>\n",
       "      <td>2015</td>\n",
       "    </tr>\n",
       "    <tr>\n",
       "      <th>24</th>\n",
       "      <td>318846</td>\n",
       "      <td>4.648046</td>\n",
       "      <td>2.800000e+07</td>\n",
       "      <td>1.333465e+08</td>\n",
       "      <td>The Big Short</td>\n",
       "      <td>Christian Bale|Steve Carell|Ryan Gosling|Brad ...</td>\n",
       "      <td>Adam McKay</td>\n",
       "      <td>130.0</td>\n",
       "      <td>Comedy|Drama</td>\n",
       "      <td>2015-12-11</td>\n",
       "      <td>1545</td>\n",
       "      <td>7.3</td>\n",
       "      <td>2015</td>\n",
       "    </tr>\n",
       "    <tr>\n",
       "      <th>25</th>\n",
       "      <td>177677</td>\n",
       "      <td>4.566713</td>\n",
       "      <td>1.500000e+08</td>\n",
       "      <td>6.823301e+08</td>\n",
       "      <td>Mission: Impossible - Rogue Nation</td>\n",
       "      <td>Tom Cruise|Jeremy Renner|Simon Pegg|Rebecca Fe...</td>\n",
       "      <td>Christopher McQuarrie</td>\n",
       "      <td>131.0</td>\n",
       "      <td>Action</td>\n",
       "      <td>2015-07-23</td>\n",
       "      <td>2349</td>\n",
       "      <td>7.1</td>\n",
       "      <td>2015</td>\n",
       "    </tr>\n",
       "    <tr>\n",
       "      <th>26</th>\n",
       "      <td>214756</td>\n",
       "      <td>4.564549</td>\n",
       "      <td>6.800000e+07</td>\n",
       "      <td>2.158636e+08</td>\n",
       "      <td>Ted 2</td>\n",
       "      <td>Mark Wahlberg|Seth MacFarlane|Amanda Seyfried|...</td>\n",
       "      <td>Seth MacFarlane</td>\n",
       "      <td>115.0</td>\n",
       "      <td>Comedy</td>\n",
       "      <td>2015-06-25</td>\n",
       "      <td>1666</td>\n",
       "      <td>6.3</td>\n",
       "      <td>2015</td>\n",
       "    </tr>\n",
       "    <tr>\n",
       "      <th>27</th>\n",
       "      <td>207703</td>\n",
       "      <td>4.503789</td>\n",
       "      <td>8.100000e+07</td>\n",
       "      <td>4.038021e+08</td>\n",
       "      <td>Kingsman: The Secret Service</td>\n",
       "      <td>Taron Egerton|Colin Firth|Samuel L. Jackson|Mi...</td>\n",
       "      <td>Matthew Vaughn</td>\n",
       "      <td>130.0</td>\n",
       "      <td>Crime|Comedy|Action|Adventure</td>\n",
       "      <td>2015-01-24</td>\n",
       "      <td>3833</td>\n",
       "      <td>7.6</td>\n",
       "      <td>2015</td>\n",
       "    </tr>\n",
       "    <tr>\n",
       "      <th>28</th>\n",
       "      <td>314365</td>\n",
       "      <td>4.062293</td>\n",
       "      <td>2.000000e+07</td>\n",
       "      <td>8.834647e+07</td>\n",
       "      <td>Spotlight</td>\n",
       "      <td>Mark Ruffalo|Michael Keaton|Rachel McAdams|Lie...</td>\n",
       "      <td>Tom McCarthy</td>\n",
       "      <td>128.0</td>\n",
       "      <td>Drama|Thriller|History</td>\n",
       "      <td>2015-11-06</td>\n",
       "      <td>1559</td>\n",
       "      <td>7.8</td>\n",
       "      <td>2015</td>\n",
       "    </tr>\n",
       "    <tr>\n",
       "      <th>29</th>\n",
       "      <td>294254</td>\n",
       "      <td>3.968891</td>\n",
       "      <td>6.100000e+07</td>\n",
       "      <td>3.112569e+08</td>\n",
       "      <td>Maze Runner: The Scorch Trials</td>\n",
       "      <td>Dylan O'Brien|Kaya Scodelario|Thomas Brodie-Sa...</td>\n",
       "      <td>Wes Ball</td>\n",
       "      <td>132.0</td>\n",
       "      <td>Action|Science Fiction|Thriller</td>\n",
       "      <td>2015-09-09</td>\n",
       "      <td>1849</td>\n",
       "      <td>6.4</td>\n",
       "      <td>2015</td>\n",
       "    </tr>\n",
       "    <tr>\n",
       "      <th>...</th>\n",
       "      <td>...</td>\n",
       "      <td>...</td>\n",
       "      <td>...</td>\n",
       "      <td>...</td>\n",
       "      <td>...</td>\n",
       "      <td>...</td>\n",
       "      <td>...</td>\n",
       "      <td>...</td>\n",
       "      <td>...</td>\n",
       "      <td>...</td>\n",
       "      <td>...</td>\n",
       "      <td>...</td>\n",
       "      <td>...</td>\n",
       "    </tr>\n",
       "    <tr>\n",
       "      <th>10836</th>\n",
       "      <td>38720</td>\n",
       "      <td>0.239435</td>\n",
       "      <td>3.082824e+07</td>\n",
       "      <td>8.933981e+07</td>\n",
       "      <td>Walk Don't Run</td>\n",
       "      <td>Cary Grant|Samantha Eggar|Jim Hutton|John Stan...</td>\n",
       "      <td>Charles Walters</td>\n",
       "      <td>114.0</td>\n",
       "      <td>Comedy|Romance</td>\n",
       "      <td>2066-01-01</td>\n",
       "      <td>11</td>\n",
       "      <td>5.8</td>\n",
       "      <td>1966</td>\n",
       "    </tr>\n",
       "    <tr>\n",
       "      <th>10837</th>\n",
       "      <td>19728</td>\n",
       "      <td>0.291704</td>\n",
       "      <td>3.082824e+07</td>\n",
       "      <td>8.933981e+07</td>\n",
       "      <td>The Blue Max</td>\n",
       "      <td>George Peppard|James Mason|Ursula Andress|Jere...</td>\n",
       "      <td>John Guillermin</td>\n",
       "      <td>156.0</td>\n",
       "      <td>War|Action|Adventure|Drama</td>\n",
       "      <td>2066-06-21</td>\n",
       "      <td>12</td>\n",
       "      <td>5.5</td>\n",
       "      <td>1966</td>\n",
       "    </tr>\n",
       "    <tr>\n",
       "      <th>10838</th>\n",
       "      <td>22383</td>\n",
       "      <td>0.151845</td>\n",
       "      <td>3.082824e+07</td>\n",
       "      <td>8.933981e+07</td>\n",
       "      <td>The Professionals</td>\n",
       "      <td>Burt Lancaster|Lee Marvin|Robert Ryan|Woody St...</td>\n",
       "      <td>Richard Brooks</td>\n",
       "      <td>117.0</td>\n",
       "      <td>Action|Adventure|Western</td>\n",
       "      <td>2066-11-01</td>\n",
       "      <td>21</td>\n",
       "      <td>6.0</td>\n",
       "      <td>1966</td>\n",
       "    </tr>\n",
       "    <tr>\n",
       "      <th>10839</th>\n",
       "      <td>13353</td>\n",
       "      <td>0.276133</td>\n",
       "      <td>3.082824e+07</td>\n",
       "      <td>8.933981e+07</td>\n",
       "      <td>It's the Great Pumpkin, Charlie Brown</td>\n",
       "      <td>Christopher Shea|Sally Dryer|Kathy Steinberg|A...</td>\n",
       "      <td>Bill Melendez</td>\n",
       "      <td>25.0</td>\n",
       "      <td>Family|Animation</td>\n",
       "      <td>2066-10-27</td>\n",
       "      <td>49</td>\n",
       "      <td>7.2</td>\n",
       "      <td>1966</td>\n",
       "    </tr>\n",
       "    <tr>\n",
       "      <th>10840</th>\n",
       "      <td>34388</td>\n",
       "      <td>0.102530</td>\n",
       "      <td>3.082824e+07</td>\n",
       "      <td>8.933981e+07</td>\n",
       "      <td>Funeral in Berlin</td>\n",
       "      <td>Michael Caine|Paul Hubschmid|Oskar Homolka|Eva...</td>\n",
       "      <td>Guy Hamilton</td>\n",
       "      <td>102.0</td>\n",
       "      <td>Thriller</td>\n",
       "      <td>2066-12-22</td>\n",
       "      <td>13</td>\n",
       "      <td>5.7</td>\n",
       "      <td>1966</td>\n",
       "    </tr>\n",
       "    <tr>\n",
       "      <th>10841</th>\n",
       "      <td>42701</td>\n",
       "      <td>0.264925</td>\n",
       "      <td>7.500000e+04</td>\n",
       "      <td>8.933981e+07</td>\n",
       "      <td>The Shooting</td>\n",
       "      <td>Will Hutchins|Millie Perkins|Jack Nicholson|Wa...</td>\n",
       "      <td>Monte Hellman</td>\n",
       "      <td>82.0</td>\n",
       "      <td>Western</td>\n",
       "      <td>2066-10-23</td>\n",
       "      <td>12</td>\n",
       "      <td>5.5</td>\n",
       "      <td>1966</td>\n",
       "    </tr>\n",
       "    <tr>\n",
       "      <th>10842</th>\n",
       "      <td>36540</td>\n",
       "      <td>0.253437</td>\n",
       "      <td>3.082824e+07</td>\n",
       "      <td>8.933981e+07</td>\n",
       "      <td>Winnie the Pooh and the Honey Tree</td>\n",
       "      <td>Sterling Holloway|Junius Matthews|Sebastian Ca...</td>\n",
       "      <td>Wolfgang Reitherman</td>\n",
       "      <td>25.0</td>\n",
       "      <td>Animation|Family</td>\n",
       "      <td>2066-01-01</td>\n",
       "      <td>12</td>\n",
       "      <td>7.9</td>\n",
       "      <td>1966</td>\n",
       "    </tr>\n",
       "    <tr>\n",
       "      <th>10843</th>\n",
       "      <td>29710</td>\n",
       "      <td>0.252399</td>\n",
       "      <td>3.082824e+07</td>\n",
       "      <td>8.933981e+07</td>\n",
       "      <td>Khartoum</td>\n",
       "      <td>Charlton Heston|Laurence Olivier|Richard Johns...</td>\n",
       "      <td>Basil Dearden|Eliot Elisofon</td>\n",
       "      <td>134.0</td>\n",
       "      <td>Adventure|Drama|War|History|Action</td>\n",
       "      <td>2066-06-09</td>\n",
       "      <td>12</td>\n",
       "      <td>5.8</td>\n",
       "      <td>1966</td>\n",
       "    </tr>\n",
       "    <tr>\n",
       "      <th>10844</th>\n",
       "      <td>23728</td>\n",
       "      <td>0.236098</td>\n",
       "      <td>3.082824e+07</td>\n",
       "      <td>8.933981e+07</td>\n",
       "      <td>Our Man Flint</td>\n",
       "      <td>James Coburn|Lee J. Cobb|Gila Golan|Edward Mul...</td>\n",
       "      <td>Daniel Mann</td>\n",
       "      <td>108.0</td>\n",
       "      <td>Adventure|Comedy|Fantasy|Science Fiction</td>\n",
       "      <td>2066-01-16</td>\n",
       "      <td>13</td>\n",
       "      <td>5.6</td>\n",
       "      <td>1966</td>\n",
       "    </tr>\n",
       "    <tr>\n",
       "      <th>10845</th>\n",
       "      <td>5065</td>\n",
       "      <td>0.230873</td>\n",
       "      <td>3.082824e+07</td>\n",
       "      <td>8.933981e+07</td>\n",
       "      <td>Carry On Cowboy</td>\n",
       "      <td>Sid James|Jim Dale|Angela Douglas|Kenneth Will...</td>\n",
       "      <td>Gerald Thomas</td>\n",
       "      <td>93.0</td>\n",
       "      <td>Comedy|Western</td>\n",
       "      <td>2066-03-01</td>\n",
       "      <td>15</td>\n",
       "      <td>5.9</td>\n",
       "      <td>1966</td>\n",
       "    </tr>\n",
       "    <tr>\n",
       "      <th>10846</th>\n",
       "      <td>17102</td>\n",
       "      <td>0.212716</td>\n",
       "      <td>3.082824e+07</td>\n",
       "      <td>8.933981e+07</td>\n",
       "      <td>Dracula: Prince of Darkness</td>\n",
       "      <td>Christopher Lee|Barbara Shelley|Andrew Keir|Fr...</td>\n",
       "      <td>Terence Fisher</td>\n",
       "      <td>90.0</td>\n",
       "      <td>Horror</td>\n",
       "      <td>2066-01-09</td>\n",
       "      <td>16</td>\n",
       "      <td>5.7</td>\n",
       "      <td>1966</td>\n",
       "    </tr>\n",
       "    <tr>\n",
       "      <th>10847</th>\n",
       "      <td>28763</td>\n",
       "      <td>0.034555</td>\n",
       "      <td>3.082824e+07</td>\n",
       "      <td>8.933981e+07</td>\n",
       "      <td>Island of Terror</td>\n",
       "      <td>Peter Cushing|Edward Judd|Carole Gray|Eddie By...</td>\n",
       "      <td>Terence Fisher</td>\n",
       "      <td>89.0</td>\n",
       "      <td>Science Fiction|Horror</td>\n",
       "      <td>2066-06-20</td>\n",
       "      <td>13</td>\n",
       "      <td>5.3</td>\n",
       "      <td>1966</td>\n",
       "    </tr>\n",
       "    <tr>\n",
       "      <th>10848</th>\n",
       "      <td>2161</td>\n",
       "      <td>0.207257</td>\n",
       "      <td>5.115000e+06</td>\n",
       "      <td>1.200000e+07</td>\n",
       "      <td>Fantastic Voyage</td>\n",
       "      <td>Stephen Boyd|Raquel Welch|Edmond O'Brien|Donal...</td>\n",
       "      <td>Richard Fleischer</td>\n",
       "      <td>100.0</td>\n",
       "      <td>Adventure|Science Fiction</td>\n",
       "      <td>2066-08-24</td>\n",
       "      <td>42</td>\n",
       "      <td>6.7</td>\n",
       "      <td>1966</td>\n",
       "    </tr>\n",
       "    <tr>\n",
       "      <th>10849</th>\n",
       "      <td>28270</td>\n",
       "      <td>0.206537</td>\n",
       "      <td>3.082824e+07</td>\n",
       "      <td>8.933981e+07</td>\n",
       "      <td>Gambit</td>\n",
       "      <td>Michael Caine|Shirley MacLaine|Herbert Lom|Joh...</td>\n",
       "      <td>Ronald Neame</td>\n",
       "      <td>109.0</td>\n",
       "      <td>Action|Comedy|Crime</td>\n",
       "      <td>2066-12-16</td>\n",
       "      <td>14</td>\n",
       "      <td>6.1</td>\n",
       "      <td>1966</td>\n",
       "    </tr>\n",
       "    <tr>\n",
       "      <th>10850</th>\n",
       "      <td>26268</td>\n",
       "      <td>0.202473</td>\n",
       "      <td>3.082824e+07</td>\n",
       "      <td>8.933981e+07</td>\n",
       "      <td>Harper</td>\n",
       "      <td>Paul Newman|Lauren Bacall|Julie Harris|Arthur ...</td>\n",
       "      <td>Jack Smight</td>\n",
       "      <td>121.0</td>\n",
       "      <td>Action|Drama|Thriller|Crime|Mystery</td>\n",
       "      <td>2066-02-23</td>\n",
       "      <td>14</td>\n",
       "      <td>6.0</td>\n",
       "      <td>1966</td>\n",
       "    </tr>\n",
       "    <tr>\n",
       "      <th>10851</th>\n",
       "      <td>15347</td>\n",
       "      <td>0.342791</td>\n",
       "      <td>3.082824e+07</td>\n",
       "      <td>8.933981e+07</td>\n",
       "      <td>Born Free</td>\n",
       "      <td>Virginia McKenna|Bill Travers|Geoffrey Keen|Pe...</td>\n",
       "      <td>James Hill</td>\n",
       "      <td>95.0</td>\n",
       "      <td>Adventure|Drama|Action|Family|Foreign</td>\n",
       "      <td>2066-06-22</td>\n",
       "      <td>15</td>\n",
       "      <td>6.6</td>\n",
       "      <td>1966</td>\n",
       "    </tr>\n",
       "    <tr>\n",
       "      <th>10852</th>\n",
       "      <td>37301</td>\n",
       "      <td>0.227220</td>\n",
       "      <td>3.082824e+07</td>\n",
       "      <td>8.933981e+07</td>\n",
       "      <td>A Big Hand for the Little Lady</td>\n",
       "      <td>Henry Fonda|Joanne Woodward|Jason Robards|Paul...</td>\n",
       "      <td>Fielder Cook</td>\n",
       "      <td>95.0</td>\n",
       "      <td>Western</td>\n",
       "      <td>2066-05-31</td>\n",
       "      <td>11</td>\n",
       "      <td>6.0</td>\n",
       "      <td>1966</td>\n",
       "    </tr>\n",
       "    <tr>\n",
       "      <th>10853</th>\n",
       "      <td>15598</td>\n",
       "      <td>0.163592</td>\n",
       "      <td>3.082824e+07</td>\n",
       "      <td>8.933981e+07</td>\n",
       "      <td>Alfie</td>\n",
       "      <td>Michael Caine|Shelley Winters|Millicent Martin...</td>\n",
       "      <td>Lewis Gilbert</td>\n",
       "      <td>114.0</td>\n",
       "      <td>Comedy|Drama|Romance</td>\n",
       "      <td>2066-03-29</td>\n",
       "      <td>26</td>\n",
       "      <td>6.2</td>\n",
       "      <td>1966</td>\n",
       "    </tr>\n",
       "    <tr>\n",
       "      <th>10854</th>\n",
       "      <td>31602</td>\n",
       "      <td>0.146402</td>\n",
       "      <td>3.082824e+07</td>\n",
       "      <td>8.933981e+07</td>\n",
       "      <td>The Chase</td>\n",
       "      <td>Marlon Brando|Jane Fonda|Robert Redford|E.G. M...</td>\n",
       "      <td>Arthur Penn</td>\n",
       "      <td>135.0</td>\n",
       "      <td>Thriller|Drama|Crime</td>\n",
       "      <td>2066-02-17</td>\n",
       "      <td>17</td>\n",
       "      <td>6.0</td>\n",
       "      <td>1966</td>\n",
       "    </tr>\n",
       "    <tr>\n",
       "      <th>10855</th>\n",
       "      <td>13343</td>\n",
       "      <td>0.141026</td>\n",
       "      <td>7.000000e+05</td>\n",
       "      <td>8.933981e+07</td>\n",
       "      <td>The Ghost &amp; Mr. Chicken</td>\n",
       "      <td>Don Knotts|Joan Staley|Liam Redmond|Dick Sarge...</td>\n",
       "      <td>Alan Rafkin</td>\n",
       "      <td>90.0</td>\n",
       "      <td>Comedy|Family|Mystery|Romance</td>\n",
       "      <td>2066-01-20</td>\n",
       "      <td>14</td>\n",
       "      <td>6.1</td>\n",
       "      <td>1966</td>\n",
       "    </tr>\n",
       "    <tr>\n",
       "      <th>10856</th>\n",
       "      <td>20277</td>\n",
       "      <td>0.140934</td>\n",
       "      <td>3.082824e+07</td>\n",
       "      <td>8.933981e+07</td>\n",
       "      <td>The Ugly Dachshund</td>\n",
       "      <td>Dean Jones|Suzanne Pleshette|Charles Ruggles|K...</td>\n",
       "      <td>Norman Tokar</td>\n",
       "      <td>93.0</td>\n",
       "      <td>Comedy|Drama|Family</td>\n",
       "      <td>2066-02-16</td>\n",
       "      <td>14</td>\n",
       "      <td>5.7</td>\n",
       "      <td>1966</td>\n",
       "    </tr>\n",
       "    <tr>\n",
       "      <th>10857</th>\n",
       "      <td>5921</td>\n",
       "      <td>0.131378</td>\n",
       "      <td>3.082824e+07</td>\n",
       "      <td>8.933981e+07</td>\n",
       "      <td>Nevada Smith</td>\n",
       "      <td>Steve McQueen|Karl Malden|Brian Keith|Arthur K...</td>\n",
       "      <td>Henry Hathaway</td>\n",
       "      <td>128.0</td>\n",
       "      <td>Action|Western</td>\n",
       "      <td>2066-06-10</td>\n",
       "      <td>10</td>\n",
       "      <td>5.9</td>\n",
       "      <td>1966</td>\n",
       "    </tr>\n",
       "    <tr>\n",
       "      <th>10858</th>\n",
       "      <td>31918</td>\n",
       "      <td>0.317824</td>\n",
       "      <td>3.082824e+07</td>\n",
       "      <td>8.933981e+07</td>\n",
       "      <td>The Russians Are Coming, The Russians Are Coming</td>\n",
       "      <td>Carl Reiner|Eva Marie Saint|Alan Arkin|Brian K...</td>\n",
       "      <td>Norman Jewison</td>\n",
       "      <td>126.0</td>\n",
       "      <td>Comedy|War</td>\n",
       "      <td>2066-05-25</td>\n",
       "      <td>11</td>\n",
       "      <td>5.5</td>\n",
       "      <td>1966</td>\n",
       "    </tr>\n",
       "    <tr>\n",
       "      <th>10859</th>\n",
       "      <td>20620</td>\n",
       "      <td>0.089072</td>\n",
       "      <td>3.082824e+07</td>\n",
       "      <td>8.933981e+07</td>\n",
       "      <td>Seconds</td>\n",
       "      <td>Rock Hudson|Salome Jens|John Randolph|Will Gee...</td>\n",
       "      <td>John Frankenheimer</td>\n",
       "      <td>100.0</td>\n",
       "      <td>Mystery|Science Fiction|Thriller|Drama</td>\n",
       "      <td>2066-10-05</td>\n",
       "      <td>22</td>\n",
       "      <td>6.6</td>\n",
       "      <td>1966</td>\n",
       "    </tr>\n",
       "    <tr>\n",
       "      <th>10860</th>\n",
       "      <td>5060</td>\n",
       "      <td>0.087034</td>\n",
       "      <td>3.082824e+07</td>\n",
       "      <td>8.933981e+07</td>\n",
       "      <td>Carry On Screaming!</td>\n",
       "      <td>Kenneth Williams|Jim Dale|Harry H. Corbett|Joa...</td>\n",
       "      <td>Gerald Thomas</td>\n",
       "      <td>87.0</td>\n",
       "      <td>Comedy</td>\n",
       "      <td>2066-05-20</td>\n",
       "      <td>13</td>\n",
       "      <td>7.0</td>\n",
       "      <td>1966</td>\n",
       "    </tr>\n",
       "    <tr>\n",
       "      <th>10861</th>\n",
       "      <td>21</td>\n",
       "      <td>0.080598</td>\n",
       "      <td>3.082824e+07</td>\n",
       "      <td>8.933981e+07</td>\n",
       "      <td>The Endless Summer</td>\n",
       "      <td>Michael Hynson|Robert August|Lord 'Tally Ho' B...</td>\n",
       "      <td>Bruce Brown</td>\n",
       "      <td>95.0</td>\n",
       "      <td>Documentary</td>\n",
       "      <td>2066-06-15</td>\n",
       "      <td>11</td>\n",
       "      <td>7.4</td>\n",
       "      <td>1966</td>\n",
       "    </tr>\n",
       "    <tr>\n",
       "      <th>10862</th>\n",
       "      <td>20379</td>\n",
       "      <td>0.065543</td>\n",
       "      <td>3.082824e+07</td>\n",
       "      <td>8.933981e+07</td>\n",
       "      <td>Grand Prix</td>\n",
       "      <td>James Garner|Eva Marie Saint|Yves Montand|Tosh...</td>\n",
       "      <td>John Frankenheimer</td>\n",
       "      <td>176.0</td>\n",
       "      <td>Action|Adventure|Drama</td>\n",
       "      <td>2066-12-21</td>\n",
       "      <td>20</td>\n",
       "      <td>5.7</td>\n",
       "      <td>1966</td>\n",
       "    </tr>\n",
       "    <tr>\n",
       "      <th>10863</th>\n",
       "      <td>39768</td>\n",
       "      <td>0.065141</td>\n",
       "      <td>3.082824e+07</td>\n",
       "      <td>8.933981e+07</td>\n",
       "      <td>Beregis Avtomobilya</td>\n",
       "      <td>Innokentiy Smoktunovskiy|Oleg Efremov|Georgi Z...</td>\n",
       "      <td>Eldar Ryazanov</td>\n",
       "      <td>94.0</td>\n",
       "      <td>Mystery|Comedy</td>\n",
       "      <td>2066-01-01</td>\n",
       "      <td>11</td>\n",
       "      <td>6.5</td>\n",
       "      <td>1966</td>\n",
       "    </tr>\n",
       "    <tr>\n",
       "      <th>10864</th>\n",
       "      <td>21449</td>\n",
       "      <td>0.064317</td>\n",
       "      <td>3.082824e+07</td>\n",
       "      <td>8.933981e+07</td>\n",
       "      <td>What's Up, Tiger Lily?</td>\n",
       "      <td>Tatsuya Mihashi|Akiko Wakabayashi|Mie Hama|Joh...</td>\n",
       "      <td>Woody Allen</td>\n",
       "      <td>80.0</td>\n",
       "      <td>Action|Comedy</td>\n",
       "      <td>2066-11-02</td>\n",
       "      <td>22</td>\n",
       "      <td>5.4</td>\n",
       "      <td>1966</td>\n",
       "    </tr>\n",
       "    <tr>\n",
       "      <th>10865</th>\n",
       "      <td>22293</td>\n",
       "      <td>0.035919</td>\n",
       "      <td>1.900000e+04</td>\n",
       "      <td>8.933981e+07</td>\n",
       "      <td>Manos: The Hands of Fate</td>\n",
       "      <td>Harold P. Warren|Tom Neyman|John Reynolds|Dian...</td>\n",
       "      <td>Harold P. Warren</td>\n",
       "      <td>74.0</td>\n",
       "      <td>Horror</td>\n",
       "      <td>2066-11-15</td>\n",
       "      <td>15</td>\n",
       "      <td>1.5</td>\n",
       "      <td>1966</td>\n",
       "    </tr>\n",
       "  </tbody>\n",
       "</table>\n",
       "<p>10731 rows × 13 columns</p>\n",
       "</div>"
      ],
      "text/plain": [
       "           id  popularity        budget       revenue  \\\n",
       "0      135397   32.985763  1.500000e+08  1.513529e+09   \n",
       "1       76341   28.419936  1.500000e+08  3.784364e+08   \n",
       "2      262500   13.112507  1.100000e+08  2.952382e+08   \n",
       "3      140607   11.173104  2.000000e+08  2.068178e+09   \n",
       "4      168259    9.335014  1.900000e+08  1.506249e+09   \n",
       "5      281957    9.110700  1.350000e+08  5.329505e+08   \n",
       "6       87101    8.654359  1.550000e+08  4.406035e+08   \n",
       "7      286217    7.667400  1.080000e+08  5.953803e+08   \n",
       "8      211672    7.404165  7.400000e+07  1.156731e+09   \n",
       "9      150540    6.326804  1.750000e+08  8.537086e+08   \n",
       "10     206647    6.200282  2.450000e+08  8.806746e+08   \n",
       "11      76757    6.189369  1.760000e+08  1.839877e+08   \n",
       "12     264660    6.118847  1.500000e+07  3.686941e+07   \n",
       "13     257344    5.984995  8.800000e+07  2.436371e+08   \n",
       "14      99861    5.944927  2.800000e+08  1.405036e+09   \n",
       "15     273248    5.898400  4.400000e+07  1.557601e+08   \n",
       "16     260346    5.749758  4.800000e+07  3.257714e+08   \n",
       "17     102899    5.573184  1.300000e+08  5.186022e+08   \n",
       "18     150689    5.556818  9.500000e+07  5.423514e+08   \n",
       "19     131634    5.476958  1.600000e+08  6.505234e+08   \n",
       "20     158852    5.462138  1.900000e+08  2.090357e+08   \n",
       "21     307081    5.337064  3.000000e+07  9.170983e+07   \n",
       "22     254128    4.907832  1.100000e+08  4.704908e+08   \n",
       "23     216015    4.710402  4.000000e+07  5.696515e+08   \n",
       "24     318846    4.648046  2.800000e+07  1.333465e+08   \n",
       "25     177677    4.566713  1.500000e+08  6.823301e+08   \n",
       "26     214756    4.564549  6.800000e+07  2.158636e+08   \n",
       "27     207703    4.503789  8.100000e+07  4.038021e+08   \n",
       "28     314365    4.062293  2.000000e+07  8.834647e+07   \n",
       "29     294254    3.968891  6.100000e+07  3.112569e+08   \n",
       "...       ...         ...           ...           ...   \n",
       "10836   38720    0.239435  3.082824e+07  8.933981e+07   \n",
       "10837   19728    0.291704  3.082824e+07  8.933981e+07   \n",
       "10838   22383    0.151845  3.082824e+07  8.933981e+07   \n",
       "10839   13353    0.276133  3.082824e+07  8.933981e+07   \n",
       "10840   34388    0.102530  3.082824e+07  8.933981e+07   \n",
       "10841   42701    0.264925  7.500000e+04  8.933981e+07   \n",
       "10842   36540    0.253437  3.082824e+07  8.933981e+07   \n",
       "10843   29710    0.252399  3.082824e+07  8.933981e+07   \n",
       "10844   23728    0.236098  3.082824e+07  8.933981e+07   \n",
       "10845    5065    0.230873  3.082824e+07  8.933981e+07   \n",
       "10846   17102    0.212716  3.082824e+07  8.933981e+07   \n",
       "10847   28763    0.034555  3.082824e+07  8.933981e+07   \n",
       "10848    2161    0.207257  5.115000e+06  1.200000e+07   \n",
       "10849   28270    0.206537  3.082824e+07  8.933981e+07   \n",
       "10850   26268    0.202473  3.082824e+07  8.933981e+07   \n",
       "10851   15347    0.342791  3.082824e+07  8.933981e+07   \n",
       "10852   37301    0.227220  3.082824e+07  8.933981e+07   \n",
       "10853   15598    0.163592  3.082824e+07  8.933981e+07   \n",
       "10854   31602    0.146402  3.082824e+07  8.933981e+07   \n",
       "10855   13343    0.141026  7.000000e+05  8.933981e+07   \n",
       "10856   20277    0.140934  3.082824e+07  8.933981e+07   \n",
       "10857    5921    0.131378  3.082824e+07  8.933981e+07   \n",
       "10858   31918    0.317824  3.082824e+07  8.933981e+07   \n",
       "10859   20620    0.089072  3.082824e+07  8.933981e+07   \n",
       "10860    5060    0.087034  3.082824e+07  8.933981e+07   \n",
       "10861      21    0.080598  3.082824e+07  8.933981e+07   \n",
       "10862   20379    0.065543  3.082824e+07  8.933981e+07   \n",
       "10863   39768    0.065141  3.082824e+07  8.933981e+07   \n",
       "10864   21449    0.064317  3.082824e+07  8.933981e+07   \n",
       "10865   22293    0.035919  1.900000e+04  8.933981e+07   \n",
       "\n",
       "                                         original_title  \\\n",
       "0                                        Jurassic World   \n",
       "1                                    Mad Max: Fury Road   \n",
       "2                                             Insurgent   \n",
       "3                          Star Wars: The Force Awakens   \n",
       "4                                             Furious 7   \n",
       "5                                          The Revenant   \n",
       "6                                    Terminator Genisys   \n",
       "7                                           The Martian   \n",
       "8                                               Minions   \n",
       "9                                            Inside Out   \n",
       "10                                              Spectre   \n",
       "11                                    Jupiter Ascending   \n",
       "12                                           Ex Machina   \n",
       "13                                               Pixels   \n",
       "14                              Avengers: Age of Ultron   \n",
       "15                                    The Hateful Eight   \n",
       "16                                              Taken 3   \n",
       "17                                              Ant-Man   \n",
       "18                                           Cinderella   \n",
       "19                The Hunger Games: Mockingjay - Part 2   \n",
       "20                                         Tomorrowland   \n",
       "21                                             Southpaw   \n",
       "22                                          San Andreas   \n",
       "23                                 Fifty Shades of Grey   \n",
       "24                                        The Big Short   \n",
       "25                   Mission: Impossible - Rogue Nation   \n",
       "26                                                Ted 2   \n",
       "27                         Kingsman: The Secret Service   \n",
       "28                                            Spotlight   \n",
       "29                       Maze Runner: The Scorch Trials   \n",
       "...                                                 ...   \n",
       "10836                                    Walk Don't Run   \n",
       "10837                                      The Blue Max   \n",
       "10838                                 The Professionals   \n",
       "10839             It's the Great Pumpkin, Charlie Brown   \n",
       "10840                                 Funeral in Berlin   \n",
       "10841                                      The Shooting   \n",
       "10842                Winnie the Pooh and the Honey Tree   \n",
       "10843                                          Khartoum   \n",
       "10844                                     Our Man Flint   \n",
       "10845                                   Carry On Cowboy   \n",
       "10846                       Dracula: Prince of Darkness   \n",
       "10847                                  Island of Terror   \n",
       "10848                                  Fantastic Voyage   \n",
       "10849                                            Gambit   \n",
       "10850                                            Harper   \n",
       "10851                                         Born Free   \n",
       "10852                    A Big Hand for the Little Lady   \n",
       "10853                                             Alfie   \n",
       "10854                                         The Chase   \n",
       "10855                           The Ghost & Mr. Chicken   \n",
       "10856                                The Ugly Dachshund   \n",
       "10857                                      Nevada Smith   \n",
       "10858  The Russians Are Coming, The Russians Are Coming   \n",
       "10859                                           Seconds   \n",
       "10860                               Carry On Screaming!   \n",
       "10861                                The Endless Summer   \n",
       "10862                                        Grand Prix   \n",
       "10863                               Beregis Avtomobilya   \n",
       "10864                            What's Up, Tiger Lily?   \n",
       "10865                          Manos: The Hands of Fate   \n",
       "\n",
       "                                                    cast  \\\n",
       "0      Chris Pratt|Bryce Dallas Howard|Irrfan Khan|Vi...   \n",
       "1      Tom Hardy|Charlize Theron|Hugh Keays-Byrne|Nic...   \n",
       "2      Shailene Woodley|Theo James|Kate Winslet|Ansel...   \n",
       "3      Harrison Ford|Mark Hamill|Carrie Fisher|Adam D...   \n",
       "4      Vin Diesel|Paul Walker|Jason Statham|Michelle ...   \n",
       "5      Leonardo DiCaprio|Tom Hardy|Will Poulter|Domhn...   \n",
       "6      Arnold Schwarzenegger|Jason Clarke|Emilia Clar...   \n",
       "7      Matt Damon|Jessica Chastain|Kristen Wiig|Jeff ...   \n",
       "8      Sandra Bullock|Jon Hamm|Michael Keaton|Allison...   \n",
       "9      Amy Poehler|Phyllis Smith|Richard Kind|Bill Ha...   \n",
       "10     Daniel Craig|Christoph Waltz|LÃ©a Seydoux|Ralp...   \n",
       "11     Mila Kunis|Channing Tatum|Sean Bean|Eddie Redm...   \n",
       "12     Domhnall Gleeson|Alicia Vikander|Oscar Isaac|S...   \n",
       "13     Adam Sandler|Michelle Monaghan|Peter Dinklage|...   \n",
       "14     Robert Downey Jr.|Chris Hemsworth|Mark Ruffalo...   \n",
       "15     Samuel L. Jackson|Kurt Russell|Jennifer Jason ...   \n",
       "16     Liam Neeson|Forest Whitaker|Maggie Grace|Famke...   \n",
       "17     Paul Rudd|Michael Douglas|Evangeline Lilly|Cor...   \n",
       "18     Lily James|Cate Blanchett|Richard Madden|Helen...   \n",
       "19     Jennifer Lawrence|Josh Hutcherson|Liam Hemswor...   \n",
       "20     Britt Robertson|George Clooney|Raffey Cassidy|...   \n",
       "21     Jake Gyllenhaal|Rachel McAdams|Forest Whitaker...   \n",
       "22     Dwayne Johnson|Alexandra Daddario|Carla Gugino...   \n",
       "23     Dakota Johnson|Jamie Dornan|Jennifer Ehle|Eloi...   \n",
       "24     Christian Bale|Steve Carell|Ryan Gosling|Brad ...   \n",
       "25     Tom Cruise|Jeremy Renner|Simon Pegg|Rebecca Fe...   \n",
       "26     Mark Wahlberg|Seth MacFarlane|Amanda Seyfried|...   \n",
       "27     Taron Egerton|Colin Firth|Samuel L. Jackson|Mi...   \n",
       "28     Mark Ruffalo|Michael Keaton|Rachel McAdams|Lie...   \n",
       "29     Dylan O'Brien|Kaya Scodelario|Thomas Brodie-Sa...   \n",
       "...                                                  ...   \n",
       "10836  Cary Grant|Samantha Eggar|Jim Hutton|John Stan...   \n",
       "10837  George Peppard|James Mason|Ursula Andress|Jere...   \n",
       "10838  Burt Lancaster|Lee Marvin|Robert Ryan|Woody St...   \n",
       "10839  Christopher Shea|Sally Dryer|Kathy Steinberg|A...   \n",
       "10840  Michael Caine|Paul Hubschmid|Oskar Homolka|Eva...   \n",
       "10841  Will Hutchins|Millie Perkins|Jack Nicholson|Wa...   \n",
       "10842  Sterling Holloway|Junius Matthews|Sebastian Ca...   \n",
       "10843  Charlton Heston|Laurence Olivier|Richard Johns...   \n",
       "10844  James Coburn|Lee J. Cobb|Gila Golan|Edward Mul...   \n",
       "10845  Sid James|Jim Dale|Angela Douglas|Kenneth Will...   \n",
       "10846  Christopher Lee|Barbara Shelley|Andrew Keir|Fr...   \n",
       "10847  Peter Cushing|Edward Judd|Carole Gray|Eddie By...   \n",
       "10848  Stephen Boyd|Raquel Welch|Edmond O'Brien|Donal...   \n",
       "10849  Michael Caine|Shirley MacLaine|Herbert Lom|Joh...   \n",
       "10850  Paul Newman|Lauren Bacall|Julie Harris|Arthur ...   \n",
       "10851  Virginia McKenna|Bill Travers|Geoffrey Keen|Pe...   \n",
       "10852  Henry Fonda|Joanne Woodward|Jason Robards|Paul...   \n",
       "10853  Michael Caine|Shelley Winters|Millicent Martin...   \n",
       "10854  Marlon Brando|Jane Fonda|Robert Redford|E.G. M...   \n",
       "10855  Don Knotts|Joan Staley|Liam Redmond|Dick Sarge...   \n",
       "10856  Dean Jones|Suzanne Pleshette|Charles Ruggles|K...   \n",
       "10857  Steve McQueen|Karl Malden|Brian Keith|Arthur K...   \n",
       "10858  Carl Reiner|Eva Marie Saint|Alan Arkin|Brian K...   \n",
       "10859  Rock Hudson|Salome Jens|John Randolph|Will Gee...   \n",
       "10860  Kenneth Williams|Jim Dale|Harry H. Corbett|Joa...   \n",
       "10861  Michael Hynson|Robert August|Lord 'Tally Ho' B...   \n",
       "10862  James Garner|Eva Marie Saint|Yves Montand|Tosh...   \n",
       "10863  Innokentiy Smoktunovskiy|Oleg Efremov|Georgi Z...   \n",
       "10864  Tatsuya Mihashi|Akiko Wakabayashi|Mie Hama|Joh...   \n",
       "10865  Harold P. Warren|Tom Neyman|John Reynolds|Dian...   \n",
       "\n",
       "                             director  runtime  \\\n",
       "0                     Colin Trevorrow    124.0   \n",
       "1                       George Miller    120.0   \n",
       "2                    Robert Schwentke    119.0   \n",
       "3                         J.J. Abrams    136.0   \n",
       "4                           James Wan    137.0   \n",
       "5      Alejandro GonzÃ¡lez IÃ±Ã¡rritu    156.0   \n",
       "6                         Alan Taylor    125.0   \n",
       "7                        Ridley Scott    141.0   \n",
       "8            Kyle Balda|Pierre Coffin     91.0   \n",
       "9                         Pete Docter     94.0   \n",
       "10                         Sam Mendes    148.0   \n",
       "11     Lana Wachowski|Lilly Wachowski    124.0   \n",
       "12                       Alex Garland    108.0   \n",
       "13                     Chris Columbus    105.0   \n",
       "14                        Joss Whedon    141.0   \n",
       "15                  Quentin Tarantino    167.0   \n",
       "16                    Olivier Megaton    109.0   \n",
       "17                        Peyton Reed    115.0   \n",
       "18                    Kenneth Branagh    112.0   \n",
       "19                   Francis Lawrence    136.0   \n",
       "20                          Brad Bird    130.0   \n",
       "21                      Antoine Fuqua    123.0   \n",
       "22                        Brad Peyton    114.0   \n",
       "23                 Sam Taylor-Johnson    125.0   \n",
       "24                         Adam McKay    130.0   \n",
       "25              Christopher McQuarrie    131.0   \n",
       "26                    Seth MacFarlane    115.0   \n",
       "27                     Matthew Vaughn    130.0   \n",
       "28                       Tom McCarthy    128.0   \n",
       "29                           Wes Ball    132.0   \n",
       "...                               ...      ...   \n",
       "10836                 Charles Walters    114.0   \n",
       "10837                 John Guillermin    156.0   \n",
       "10838                  Richard Brooks    117.0   \n",
       "10839                   Bill Melendez     25.0   \n",
       "10840                    Guy Hamilton    102.0   \n",
       "10841                   Monte Hellman     82.0   \n",
       "10842             Wolfgang Reitherman     25.0   \n",
       "10843    Basil Dearden|Eliot Elisofon    134.0   \n",
       "10844                     Daniel Mann    108.0   \n",
       "10845                   Gerald Thomas     93.0   \n",
       "10846                  Terence Fisher     90.0   \n",
       "10847                  Terence Fisher     89.0   \n",
       "10848               Richard Fleischer    100.0   \n",
       "10849                    Ronald Neame    109.0   \n",
       "10850                     Jack Smight    121.0   \n",
       "10851                      James Hill     95.0   \n",
       "10852                    Fielder Cook     95.0   \n",
       "10853                   Lewis Gilbert    114.0   \n",
       "10854                     Arthur Penn    135.0   \n",
       "10855                     Alan Rafkin     90.0   \n",
       "10856                    Norman Tokar     93.0   \n",
       "10857                  Henry Hathaway    128.0   \n",
       "10858                  Norman Jewison    126.0   \n",
       "10859              John Frankenheimer    100.0   \n",
       "10860                   Gerald Thomas     87.0   \n",
       "10861                     Bruce Brown     95.0   \n",
       "10862              John Frankenheimer    176.0   \n",
       "10863                  Eldar Ryazanov     94.0   \n",
       "10864                     Woody Allen     80.0   \n",
       "10865                Harold P. Warren     74.0   \n",
       "\n",
       "                                                genres release_date  \\\n",
       "0            Action|Adventure|Science Fiction|Thriller   2015-06-09   \n",
       "1            Action|Adventure|Science Fiction|Thriller   2015-05-13   \n",
       "2                   Adventure|Science Fiction|Thriller   2015-03-18   \n",
       "3             Action|Adventure|Science Fiction|Fantasy   2015-12-15   \n",
       "4                                Action|Crime|Thriller   2015-04-01   \n",
       "5                     Western|Drama|Adventure|Thriller   2015-12-25   \n",
       "6            Science Fiction|Action|Thriller|Adventure   2015-06-23   \n",
       "7                      Drama|Adventure|Science Fiction   2015-09-30   \n",
       "8                    Family|Animation|Adventure|Comedy   2015-06-17   \n",
       "9                              Comedy|Animation|Family   2015-06-09   \n",
       "10                              Action|Adventure|Crime   2015-10-26   \n",
       "11            Science Fiction|Fantasy|Action|Adventure   2015-02-04   \n",
       "12                               Drama|Science Fiction   2015-01-21   \n",
       "13                       Action|Comedy|Science Fiction   2015-07-16   \n",
       "14                    Action|Adventure|Science Fiction   2015-04-22   \n",
       "15                         Crime|Drama|Mystery|Western   2015-12-25   \n",
       "16                               Crime|Action|Thriller   2015-01-01   \n",
       "17                    Science Fiction|Action|Adventure   2015-07-14   \n",
       "18                        Romance|Fantasy|Family|Drama   2015-03-12   \n",
       "19                       War|Adventure|Science Fiction   2015-11-18   \n",
       "20     Action|Family|Science Fiction|Adventure|Mystery   2015-05-19   \n",
       "21                                        Action|Drama   2015-06-15   \n",
       "22                               Action|Drama|Thriller   2015-05-27   \n",
       "23                                       Drama|Romance   2015-02-11   \n",
       "24                                        Comedy|Drama   2015-12-11   \n",
       "25                                              Action   2015-07-23   \n",
       "26                                              Comedy   2015-06-25   \n",
       "27                       Crime|Comedy|Action|Adventure   2015-01-24   \n",
       "28                              Drama|Thriller|History   2015-11-06   \n",
       "29                     Action|Science Fiction|Thriller   2015-09-09   \n",
       "...                                                ...          ...   \n",
       "10836                                   Comedy|Romance   2066-01-01   \n",
       "10837                       War|Action|Adventure|Drama   2066-06-21   \n",
       "10838                         Action|Adventure|Western   2066-11-01   \n",
       "10839                                 Family|Animation   2066-10-27   \n",
       "10840                                         Thriller   2066-12-22   \n",
       "10841                                          Western   2066-10-23   \n",
       "10842                                 Animation|Family   2066-01-01   \n",
       "10843               Adventure|Drama|War|History|Action   2066-06-09   \n",
       "10844         Adventure|Comedy|Fantasy|Science Fiction   2066-01-16   \n",
       "10845                                   Comedy|Western   2066-03-01   \n",
       "10846                                           Horror   2066-01-09   \n",
       "10847                           Science Fiction|Horror   2066-06-20   \n",
       "10848                        Adventure|Science Fiction   2066-08-24   \n",
       "10849                              Action|Comedy|Crime   2066-12-16   \n",
       "10850              Action|Drama|Thriller|Crime|Mystery   2066-02-23   \n",
       "10851            Adventure|Drama|Action|Family|Foreign   2066-06-22   \n",
       "10852                                          Western   2066-05-31   \n",
       "10853                             Comedy|Drama|Romance   2066-03-29   \n",
       "10854                             Thriller|Drama|Crime   2066-02-17   \n",
       "10855                    Comedy|Family|Mystery|Romance   2066-01-20   \n",
       "10856                              Comedy|Drama|Family   2066-02-16   \n",
       "10857                                   Action|Western   2066-06-10   \n",
       "10858                                       Comedy|War   2066-05-25   \n",
       "10859           Mystery|Science Fiction|Thriller|Drama   2066-10-05   \n",
       "10860                                           Comedy   2066-05-20   \n",
       "10861                                      Documentary   2066-06-15   \n",
       "10862                           Action|Adventure|Drama   2066-12-21   \n",
       "10863                                   Mystery|Comedy   2066-01-01   \n",
       "10864                                    Action|Comedy   2066-11-02   \n",
       "10865                                           Horror   2066-11-15   \n",
       "\n",
       "       vote_count  vote_average  release_year  \n",
       "0            5562           6.5          2015  \n",
       "1            6185           7.1          2015  \n",
       "2            2480           6.3          2015  \n",
       "3            5292           7.5          2015  \n",
       "4            2947           7.3          2015  \n",
       "5            3929           7.2          2015  \n",
       "6            2598           5.8          2015  \n",
       "7            4572           7.6          2015  \n",
       "8            2893           6.5          2015  \n",
       "9            3935           8.0          2015  \n",
       "10           3254           6.2          2015  \n",
       "11           1937           5.2          2015  \n",
       "12           2854           7.6          2015  \n",
       "13           1575           5.8          2015  \n",
       "14           4304           7.4          2015  \n",
       "15           2389           7.4          2015  \n",
       "16           1578           6.1          2015  \n",
       "17           3779           7.0          2015  \n",
       "18           1495           6.8          2015  \n",
       "19           2380           6.5          2015  \n",
       "20           1899           6.2          2015  \n",
       "21           1386           7.3          2015  \n",
       "22           2060           6.1          2015  \n",
       "23           1865           5.3          2015  \n",
       "24           1545           7.3          2015  \n",
       "25           2349           7.1          2015  \n",
       "26           1666           6.3          2015  \n",
       "27           3833           7.6          2015  \n",
       "28           1559           7.8          2015  \n",
       "29           1849           6.4          2015  \n",
       "...           ...           ...           ...  \n",
       "10836          11           5.8          1966  \n",
       "10837          12           5.5          1966  \n",
       "10838          21           6.0          1966  \n",
       "10839          49           7.2          1966  \n",
       "10840          13           5.7          1966  \n",
       "10841          12           5.5          1966  \n",
       "10842          12           7.9          1966  \n",
       "10843          12           5.8          1966  \n",
       "10844          13           5.6          1966  \n",
       "10845          15           5.9          1966  \n",
       "10846          16           5.7          1966  \n",
       "10847          13           5.3          1966  \n",
       "10848          42           6.7          1966  \n",
       "10849          14           6.1          1966  \n",
       "10850          14           6.0          1966  \n",
       "10851          15           6.6          1966  \n",
       "10852          11           6.0          1966  \n",
       "10853          26           6.2          1966  \n",
       "10854          17           6.0          1966  \n",
       "10855          14           6.1          1966  \n",
       "10856          14           5.7          1966  \n",
       "10857          10           5.9          1966  \n",
       "10858          11           5.5          1966  \n",
       "10859          22           6.6          1966  \n",
       "10860          13           7.0          1966  \n",
       "10861          11           7.4          1966  \n",
       "10862          20           5.7          1966  \n",
       "10863          11           6.5          1966  \n",
       "10864          22           5.4          1966  \n",
       "10865          15           1.5          1966  \n",
       "\n",
       "[10731 rows x 13 columns]"
      ]
     },
     "execution_count": 21,
     "metadata": {},
     "output_type": "execute_result"
    }
   ],
   "source": [
    "#fill all the value of nan with mean()\n",
    "df_tmdb.fillna(df_tmdb.mean())"
   ]
  },
  {
   "cell_type": "markdown",
   "metadata": {},
   "source": [
    "So we are done with all the introduction and data wrangling process the next step is Exploratory Data Analysis(EDA).In this section we will try to analyse our clean data with few questions."
   ]
  },
  {
   "cell_type": "markdown",
   "metadata": {},
   "source": [
    "# 3.Exploratory Data Analysis"
   ]
  },
  {
   "cell_type": "markdown",
   "metadata": {},
   "source": [
    "### Research Question 1:Find the movie name which has highest runtime?"
   ]
  },
  {
   "cell_type": "code",
   "execution_count": 58,
   "metadata": {},
   "outputs": [],
   "source": [
    "#using function to DRY:Do not repeat \n",
    "def max_function(column_name):\n",
    "    return df_tmdb[column_name].max()"
   ]
  },
  {
   "cell_type": "code",
   "execution_count": 59,
   "metadata": {},
   "outputs": [
    {
     "data": {
      "text/plain": [
       "900.0"
      ]
     },
     "execution_count": 59,
     "metadata": {},
     "output_type": "execute_result"
    }
   ],
   "source": [
    "#using function for 'runtime'\n",
    "max_function('runtime')"
   ]
  },
  {
   "cell_type": "code",
   "execution_count": 23,
   "metadata": {},
   "outputs": [
    {
     "data": {
      "text/plain": [
       "3894    The Story of Film: An Odyssey\n",
       "Name: original_title, dtype: object"
      ]
     },
     "execution_count": 23,
     "metadata": {},
     "output_type": "execute_result"
    }
   ],
   "source": [
    "#now find out the movie name  coresposnding to maximum runtime value\n",
    "df_tmdb[df_tmdb['runtime']==max_runtime]['original_title']"
   ]
  },
  {
   "cell_type": "markdown",
   "metadata": {},
   "source": [
    "### Research Question 2: How many movies have runtime less than 2hrs.(120 min) and greater than 2hrs ?"
   ]
  },
  {
   "cell_type": "code",
   "execution_count": 84,
   "metadata": {},
   "outputs": [],
   "source": [
    "#greater_function is used to calculate greater values while comparing with other data\n",
    "def greater_function(column_name,value):\n",
    "    return df_tmdb[df_tmdb[column_name]>value].count()['id']"
   ]
  },
  {
   "cell_type": "code",
   "execution_count": 85,
   "metadata": {},
   "outputs": [
    {
     "data": {
      "text/plain": [
       "1569"
      ]
     },
     "execution_count": 85,
     "metadata": {},
     "output_type": "execute_result"
    }
   ],
   "source": [
    "#apply on rruntime column\n",
    "greater_function('runtime',120)"
   ]
  },
  {
   "cell_type": "code",
   "execution_count": 86,
   "metadata": {},
   "outputs": [],
   "source": [
    "#lessfunction is used to calculate lesser or equal to given values while comparing with other data\n",
    "def less_function(column_name,value):\n",
    "    return df_tmdb[df_tmdb[column_name]<=value].count()['id']"
   ]
  },
  {
   "cell_type": "code",
   "execution_count": 87,
   "metadata": {},
   "outputs": [
    {
     "data": {
      "text/plain": [
       "9134"
      ]
     },
     "execution_count": 87,
     "metadata": {},
     "output_type": "execute_result"
    }
   ],
   "source": [
    "#applied on runtime column\n",
    "less_function('runtime',120)"
   ]
  },
  {
   "cell_type": "code",
   "execution_count": 88,
   "metadata": {
    "scrolled": true
   },
   "outputs": [
    {
     "data": {
      "image/png": "[encoded data removed]",
      "text/plain": [
       "<Figure size 720x360 with 1 Axes>"
      ]
     },
     "metadata": {},
     "output_type": "display_data"
    }
   ],
   "source": [
    "#visualizing and comparing the length of the movie using bar graph\n",
    "fig = plt.figure()\n",
    "ax = fig.add_axes([0,0,0.5,1])\n",
    "length = ['less_than120', 'g_than120']\n",
    "counts = [less_function('runtime',120),greater_function('runtime',120)]\n",
    "ax.bar(length,counts)\n",
    "plt.title('Different Runtime Comparisions')\n",
    "plt.xlabel('Runtime')\n",
    "plt.ylabel('Total movies')\n",
    "plt.show()"
   ]
  },
  {
   "cell_type": "markdown",
   "metadata": {},
   "source": [
    "we can observe that the movies having less than or equal to 120 min is the standard movie runtime"
   ]
  },
  {
   "cell_type": "markdown",
   "metadata": {},
   "source": [
    "### Research Question 3: Year of highest and lowest number of movie release?"
   ]
  },
  {
   "cell_type": "code",
   "execution_count": 27,
   "metadata": {},
   "outputs": [
    {
     "name": "stdout",
     "output_type": "stream",
     "text": [
      "release_year\n",
      "1960    32\n",
      "1961    31\n",
      "1962    32\n",
      "1963    34\n",
      "1964    42\n",
      "Name: id, dtype: int64\n"
     ]
    }
   ],
   "source": [
    "#Groupby fucntion is used to get yearwise movie release\n",
    "highest=df_tmdb.groupby('release_year').count()['id']\n",
    "print(highest.head())"
   ]
  },
  {
   "cell_type": "code",
   "execution_count": 71,
   "metadata": {},
   "outputs": [
    {
     "data": {
      "image/png": "[encoded data removed]",
      "text/plain": [
       "<Figure size 720x360 with 1 Axes>"
      ]
     },
     "metadata": {},
     "output_type": "display_data"
    }
   ],
   "source": [
    "#visualizing the comparision\n",
    "highest.plot(xticks = np.arange(1960,2016,4))\n",
    "sns.set(rc={'figure.figsize':(10,5)})\n",
    "plt.title(\"Year Vs No. of Movies\",fontsize = 14)\n",
    "plt.xlabel('year of release',fontsize = 13)\n",
    "plt.ylabel('Number Of Movies',fontsize = 15)\n",
    "sns.set_style(\"whitegrid\")"
   ]
  },
  {
   "cell_type": "code",
   "execution_count": 72,
   "metadata": {},
   "outputs": [
    {
     "data": {
      "image/png": "[encoded data removed]",
      "text/plain": [
       "<Figure size 720x360 with 1 Axes>"
      ]
     },
     "metadata": {},
     "output_type": "display_data"
    }
   ],
   "source": [
    "#analysis of release year using histogram\n",
    "df_tmdb['release_year'].hist()\n",
    "plt.show()"
   ]
  },
  {
   "cell_type": "markdown",
   "metadata": {},
   "source": [
    "Year 1961 has 31(lowest) and 2014 has 700(highest) numbers of movie released.\n",
    "\n",
    "The trend shows that the release of movies every year is inceasing."
   ]
  },
  {
   "cell_type": "markdown",
   "metadata": {},
   "source": [
    "### Research Question 4: Get 5 directors with highest directed movies?"
   ]
  },
  {
   "cell_type": "code",
   "execution_count": 29,
   "metadata": {},
   "outputs": [],
   "source": [
    "#using groupby fucntion to count the total number of movies directed by each director\n",
    "#using sort_values fucntion to sort in descending order\n",
    "director_name=df_tmdb.groupby('director')['id'].count().sort_values(ascending=False).iloc[:5]"
   ]
  },
  {
   "cell_type": "code",
   "execution_count": 30,
   "metadata": {},
   "outputs": [
    {
     "name": "stdout",
     "output_type": "stream",
     "text": [
      "director\n",
      "Woody Allen         45\n",
      "Clint Eastwood      34\n",
      "Steven Spielberg    29\n",
      "Martin Scorsese     28\n",
      "Ridley Scott        23\n",
      "Name: id, dtype: int64\n"
     ]
    }
   ],
   "source": [
    "#getting top 5 directors with directed movies\n",
    "print(director_name)"
   ]
  },
  {
   "cell_type": "markdown",
   "metadata": {},
   "source": [
    "### Research Question 5: What  is maximum and minimum vote average?"
   ]
  },
  {
   "cell_type": "code",
   "execution_count": 60,
   "metadata": {},
   "outputs": [
    {
     "name": "stdout",
     "output_type": "stream",
     "text": [
      "maximum vote average: 9.2\n"
     ]
    }
   ],
   "source": [
    "#max_funtion is used to calculate the maximum of vote average\n",
    "print(\"maximum vote average:\",max_function('vote_average'))"
   ]
  },
  {
   "cell_type": "code",
   "execution_count": 61,
   "metadata": {},
   "outputs": [],
   "source": [
    "#a min_func function is made to calculate the minimum value\n",
    "def min_function(column_name):\n",
    "    return df_tmdb[column_name].min()"
   ]
  },
  {
   "cell_type": "code",
   "execution_count": 62,
   "metadata": {},
   "outputs": [
    {
     "name": "stdout",
     "output_type": "stream",
     "text": [
      "minimum vote average: 1.5\n"
     ]
    }
   ],
   "source": [
    "print(\"minimum vote average:\",min_function('vote_average'))"
   ]
  },
  {
   "cell_type": "markdown",
   "metadata": {},
   "source": [
    "### Research Question 6: Name the movies with maximum and minimum vote average?"
   ]
  },
  {
   "cell_type": "code",
   "execution_count": 74,
   "metadata": {},
   "outputs": [
    {
     "data": {
      "text/plain": [
       "3894    The Story of Film: An Odyssey\n",
       "Name: original_title, dtype: object"
      ]
     },
     "execution_count": 74,
     "metadata": {},
     "output_type": "execute_result"
    }
   ],
   "source": [
    "#movie having maximum vote average\n",
    "df_tmdb[df_tmdb['vote_average']==max_function('vote_average')]['original_title']"
   ]
  },
  {
   "cell_type": "code",
   "execution_count": 75,
   "metadata": {},
   "outputs": [
    {
     "data": {
      "text/plain": [
       "7772                Transmorphers\n",
       "10865    Manos: The Hands of Fate\n",
       "Name: original_title, dtype: object"
      ]
     },
     "execution_count": 75,
     "metadata": {},
     "output_type": "execute_result"
    }
   ],
   "source": [
    "#movies with minimum vote average\n",
    "df_tmdb[df_tmdb['vote_average']==min_function('vote_average')]['original_title']"
   ]
  },
  {
   "cell_type": "markdown",
   "metadata": {},
   "source": [
    "There are two movies which have same minimum rating(1.5)"
   ]
  },
  {
   "cell_type": "markdown",
   "metadata": {},
   "source": [
    "### Research Question 7:Movies having vote average less than or equal to 5 and greater than 5?"
   ]
  },
  {
   "cell_type": "code",
   "execution_count": 91,
   "metadata": {},
   "outputs": [
    {
     "name": "stdout",
     "output_type": "stream",
     "text": [
      "Number of Movies with rating greater than 5: 9099\n"
     ]
    }
   ],
   "source": [
    "#Movies vote average greater than 5\n",
    "print(\"Number of Movies with rating greater than 5:\",greater_function('vote_average',5))"
   ]
  },
  {
   "cell_type": "code",
   "execution_count": 92,
   "metadata": {},
   "outputs": [
    {
     "name": "stdout",
     "output_type": "stream",
     "text": [
      "Number of Movies with rating less than or equal to 5: 1632\n"
     ]
    }
   ],
   "source": [
    "#Movies vote average less than or equal to 5\n",
    "print(\"Number of Movies with rating less than or equal to 5:\",less_function('vote_average',5))"
   ]
  },
  {
   "cell_type": "code",
   "execution_count": 93,
   "metadata": {},
   "outputs": [
    {
     "data": {
      "image/png": "[encoded data removed]",
      "text/plain": [
       "<Figure size 720x360 with 1 Axes>"
      ]
     },
     "metadata": {},
     "output_type": "display_data"
    }
   ],
   "source": [
    "#visualizing the rating less than or equal to 5 and greater than 5\n",
    "fig = plt.figure()\n",
    "ax = fig.add_axes([0,0,0.5,1])\n",
    "Number = ['less_than5', 'g_than5']\n",
    "counts = [less_function('vote_average',5),greater_function('vote_average',5)]\n",
    "ax.bar(Number,counts)\n",
    "plt.title('rating and counts')\n",
    "plt.xlabel('Rating')\n",
    "plt.ylabel('Total movies')\n",
    "plt.show()"
   ]
  },
  {
   "cell_type": "markdown",
   "metadata": {},
   "source": [
    "Movies with rating greater than 5 has frequency higher than movies rating less than or equal to 5. It shows that directors are well aware of delivering quality content among the audience"
   ]
  },
  {
   "cell_type": "markdown",
   "metadata": {},
   "source": [
    "### Research Question 8: What is the vote average of most popular movie?"
   ]
  },
  {
   "cell_type": "code",
   "execution_count": 63,
   "metadata": {},
   "outputs": [
    {
     "data": {
      "text/plain": [
       "0    6.5\n",
       "Name: vote_average, dtype: float64"
      ]
     },
     "execution_count": 63,
     "metadata": {},
     "output_type": "execute_result"
    }
   ],
   "source": [
    "#get the vote average of popular movie\n",
    "df_tmdb[df_tmdb['popularity']==max_function('popularity')]['vote_average']"
   ]
  },
  {
   "cell_type": "code",
   "execution_count": 64,
   "metadata": {},
   "outputs": [
    {
     "data": {
      "image/png": "[encoded data removed]",
      "text/plain": [
       "<Figure size 720x360 with 1 Axes>"
      ]
     },
     "metadata": {},
     "output_type": "display_data"
    }
   ],
   "source": [
    "#visualizing the data using scatter plot\n",
    "x = df_tmdb['vote_average']\n",
    "y = df_tmdb['popularity']\n",
    "\n",
    "plt.scatter(x, y)\n",
    "plt.xlabel(\"Vote Average\")\n",
    "plt.ylabel(\"Popularity\")\n",
    "plt.title(\"Vote_Average vs popularity\")\n",
    "plt.show()"
   ]
  },
  {
   "cell_type": "markdown",
   "metadata": {},
   "source": [
    "Movies having rating greater than 5 seems to be very popular"
   ]
  },
  {
   "cell_type": "markdown",
   "metadata": {},
   "source": [
    "### Research Question 9: Find the revenue of highest budget movie?"
   ]
  },
  {
   "cell_type": "code",
   "execution_count": 66,
   "metadata": {},
   "outputs": [
    {
     "data": {
      "text/plain": [
       "2244    11087569.0\n",
       "Name: revenue, dtype: float64"
      ]
     },
     "execution_count": 66,
     "metadata": {},
     "output_type": "execute_result"
    }
   ],
   "source": [
    "#getting revenue of highest budget movie\n",
    "df_tmdb[df_tmdb['budget']==max_function('budget')]['revenue']"
   ]
  },
  {
   "cell_type": "markdown",
   "metadata": {},
   "source": [
    "### Research Question 10: Revenue of Most Popular movie?"
   ]
  },
  {
   "cell_type": "code",
   "execution_count": 68,
   "metadata": {},
   "outputs": [
    {
     "data": {
      "text/plain": [
       "0    1.513529e+09\n",
       "Name: revenue, dtype: float64"
      ]
     },
     "execution_count": 68,
     "metadata": {},
     "output_type": "execute_result"
    }
   ],
   "source": [
    "#get revenue of most popular movie\n",
    "df_tmdb[df_tmdb['popularity']==max_function('popularity')]['revenue']"
   ]
  },
  {
   "cell_type": "markdown",
   "metadata": {},
   "source": [
    "# 4.Conclusions"
   ]
  },
  {
   "cell_type": "markdown",
   "metadata": {},
   "source": [
    "1. The movie 'The Story of Film: An Odyssey' has runtime 900 min.This is because many parts are counted together."
   ]
  },
  {
   "cell_type": "markdown",
   "metadata": {},
   "source": [
    "2. Movie length less than or equal to 2hrs is the ideal length for production."
   ]
  },
  {
   "cell_type": "markdown",
   "metadata": {},
   "source": [
    "3. Year 1961 has 31(lowest) and 2014 has 700(highest) numbers of movie released. This is because of evolution in technologies and public demand has raised the production of more movies year to year "
   ]
  },
  {
   "cell_type": "markdown",
   "metadata": {},
   "source": [
    "4. According to dataset Woody Allen has directed maximum movies (45) so far."
   ]
  },
  {
   "cell_type": "markdown",
   "metadata": {},
   "source": [
    "5. The Story of Film: An Odyssey has the maximum vote average (9.2) whereas Transmorphers and  Manos: The Hands of Fate has the lowest rating(1.5). It shows that people are interested in quality content."
   ]
  },
  {
   "cell_type": "markdown",
   "metadata": {},
   "source": [
    "6. Most popular movie has the rating 6.5 and revenue earned is 1513528810($)."
   ]
  },
  {
   "cell_type": "markdown",
   "metadata": {},
   "source": [
    "7. Movie with highest budget had earned (11087569)($)."
   ]
  },
  {
   "cell_type": "markdown",
   "metadata": {},
   "source": [
    "#### Limitations"
   ]
  },
  {
   "cell_type": "markdown",
   "metadata": {},
   "source": [
    " 1.This study has limitations of dealing with NaN values.It affects the process of data analysis.\n",
    " NAN values limit our scope of exploration when they are in significant amount.\n",
    " Sometimes deleting all these makes our data monotonous.\n",
    " \n",
    " 2.The data given to us was sufficient but columns containing outliers made the analysis less interesting. \n",
    " \n",
    " This is how i conclude my General Data analysis of Movie data set!"
   ]
  },
  {
   "cell_type": "code",
   "execution_count": null,
   "metadata": {},
   "outputs": [],
   "source": []
  }
 ],
 "metadata": {
  "kernelspec": {
   "display_name": "Python 3",
   "language": "python",
   "name": "python3"
  },
  "language_info": {
   "codemirror_mode": {
    "name": "ipython",
    "version": 3
   },
   "file_extension": ".py",
   "mimetype": "text/x-python",
   "name": "python",
   "nbconvert_exporter": "python",
   "pygments_lexer": "ipython3",
   "version": "3.7.3"
  }
 },
 "nbformat": 4,
 "nbformat_minor": 2
}
